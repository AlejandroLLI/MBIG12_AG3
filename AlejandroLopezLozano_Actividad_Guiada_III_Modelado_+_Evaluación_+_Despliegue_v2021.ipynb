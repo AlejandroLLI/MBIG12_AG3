{
  "nbformat": 4,
  "nbformat_minor": 0,
  "metadata": {
    "kernelspec": {
      "display_name": "Python 3",
      "language": "python",
      "name": "python3"
    },
    "language_info": {
      "codemirror_mode": {
        "name": "ipython",
        "version": 3
      },
      "file_extension": ".py",
      "mimetype": "text/x-python",
      "name": "python",
      "nbconvert_exporter": "python",
      "pygments_lexer": "ipython3",
      "version": "3.8.5"
    },
    "colab": {
      "name": "Actividad Guiada III - Modelado + Evaluación + Despliegue - v2021.ipynb",
      "provenance": [],
      "collapsed_sections": [
        "sFVFbYuxJiuC"
      ]
    }
  },
  "cells": [
    {
      "cell_type": "markdown",
      "metadata": {
        "id": "rtKHEECBJitA"
      },
      "source": [
        "# Máster en Big Data y Data Science\n",
        "\n",
        "# Metodologías de gestión y diseño de proyectos de big data\n",
        "\n",
        "## Actividad Guiada III - Aplicando CRISP-DM en un entorno ágil\n",
        "\n",
        "---\n",
        "\n",
        "### Sprint 2 - Modelado + Evaluación + Despliegue"
      ]
    },
    {
      "cell_type": "markdown",
      "metadata": {
        "id": "quDeVkUJJitH"
      },
      "source": [
        "### Carga de librerías base"
      ]
    },
    {
      "cell_type": "code",
      "metadata": {
        "id": "Fll7O8q8JitI"
      },
      "source": [
        "import pandas as pd\n",
        "import numpy as np\n",
        "\n",
        "from google.colab import files"
      ],
      "execution_count": 1,
      "outputs": []
    },
    {
      "cell_type": "markdown",
      "metadata": {
        "id": "zfiHw9enJitL"
      },
      "source": [
        "### Lectura del dataset generado en la fase de \"Preparación de los datos\""
      ]
    },
    {
      "cell_type": "code",
      "metadata": {
        "id": "1gecoox6JitM",
        "colab": {
          "resources": {
            "http://localhost:8080/nbextensions/google.colab/files.js": {
              "data": "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",
              "ok": true,
              "headers": [
                [
                  "content-type",
                  "application/javascript"
                ]
              ],
              "status": 200,
              "status_text": "OK"
            }
          },
          "base_uri": "https://localhost:8080/",
          "height": 337
        },
        "outputId": "dd6d49fa-40b3-4868-f7c2-cb7eba578056"
      },
      "source": [
        "files.upload()\n",
        "\n",
        "datos = pd.read_csv('datos_completos_filtrado.csv', index_col='Unnamed: 0')\n",
        "print(datos.columns)\n",
        "datos.head()"
      ],
      "execution_count": 2,
      "outputs": [
        {
          "output_type": "display_data",
          "data": {
            "text/html": [
              "\n",
              "     <input type=\"file\" id=\"files-cbf82c42-c68f-4cfa-af3a-560f9ee49179\" name=\"files[]\" multiple disabled\n",
              "        style=\"border:none\" />\n",
              "     <output id=\"result-cbf82c42-c68f-4cfa-af3a-560f9ee49179\">\n",
              "      Upload widget is only available when the cell has been executed in the\n",
              "      current browser session. Please rerun this cell to enable.\n",
              "      </output>\n",
              "      <script src=\"/nbextensions/google.colab/files.js\"></script> "
            ],
            "text/plain": [
              "<IPython.core.display.HTML object>"
            ]
          },
          "metadata": {
            "tags": []
          }
        },
        {
          "output_type": "stream",
          "text": [
            "Saving datos_completos_filtrado.csv to datos_completos_filtrado (3).csv\n",
            "Index(['sexo', 'nacionalidad', 'edad', 'regular', 'cnt_readmisiones',\n",
            "       'calidad', 'inactividad', 'estado_civil', 'sit_lab_alumno',\n",
            "       'tipo_res_alumno', 'sit_lab_padres', 'estudios_padres'],\n",
            "      dtype='object')\n"
          ],
          "name": "stdout"
        },
        {
          "output_type": "execute_result",
          "data": {
            "text/html": [
              "<div>\n",
              "<style scoped>\n",
              "    .dataframe tbody tr th:only-of-type {\n",
              "        vertical-align: middle;\n",
              "    }\n",
              "\n",
              "    .dataframe tbody tr th {\n",
              "        vertical-align: top;\n",
              "    }\n",
              "\n",
              "    .dataframe thead th {\n",
              "        text-align: right;\n",
              "    }\n",
              "</style>\n",
              "<table border=\"1\" class=\"dataframe\">\n",
              "  <thead>\n",
              "    <tr style=\"text-align: right;\">\n",
              "      <th></th>\n",
              "      <th>sexo</th>\n",
              "      <th>nacionalidad</th>\n",
              "      <th>edad</th>\n",
              "      <th>regular</th>\n",
              "      <th>cnt_readmisiones</th>\n",
              "      <th>calidad</th>\n",
              "      <th>inactividad</th>\n",
              "      <th>estado_civil</th>\n",
              "      <th>sit_lab_alumno</th>\n",
              "      <th>tipo_res_alumno</th>\n",
              "      <th>sit_lab_padres</th>\n",
              "      <th>estudios_padres</th>\n",
              "    </tr>\n",
              "  </thead>\n",
              "  <tbody>\n",
              "    <tr>\n",
              "      <th>0</th>\n",
              "      <td>2</td>\n",
              "      <td>1.0</td>\n",
              "      <td>33</td>\n",
              "      <td>S</td>\n",
              "      <td>1.0</td>\n",
              "      <td>A</td>\n",
              "      <td>1</td>\n",
              "      <td>1.0</td>\n",
              "      <td>NC</td>\n",
              "      <td>-1.0</td>\n",
              "      <td>-1</td>\n",
              "      <td>-1.0</td>\n",
              "    </tr>\n",
              "    <tr>\n",
              "      <th>1</th>\n",
              "      <td>2</td>\n",
              "      <td>1.0</td>\n",
              "      <td>35</td>\n",
              "      <td>N</td>\n",
              "      <td>2.0</td>\n",
              "      <td>A</td>\n",
              "      <td>6</td>\n",
              "      <td>1.0</td>\n",
              "      <td>NC</td>\n",
              "      <td>-1.0</td>\n",
              "      <td>-1</td>\n",
              "      <td>-1.0</td>\n",
              "    </tr>\n",
              "    <tr>\n",
              "      <th>2</th>\n",
              "      <td>1</td>\n",
              "      <td>1.0</td>\n",
              "      <td>35</td>\n",
              "      <td>N</td>\n",
              "      <td>2.0</td>\n",
              "      <td>P</td>\n",
              "      <td>1</td>\n",
              "      <td>1.0</td>\n",
              "      <td>N</td>\n",
              "      <td>1.0</td>\n",
              "      <td>3</td>\n",
              "      <td>3.0</td>\n",
              "    </tr>\n",
              "    <tr>\n",
              "      <th>3</th>\n",
              "      <td>2</td>\n",
              "      <td>1.0</td>\n",
              "      <td>34</td>\n",
              "      <td>N</td>\n",
              "      <td>2.0</td>\n",
              "      <td>A</td>\n",
              "      <td>1</td>\n",
              "      <td>3.0</td>\n",
              "      <td>NC</td>\n",
              "      <td>-1.0</td>\n",
              "      <td>-1</td>\n",
              "      <td>-1.0</td>\n",
              "    </tr>\n",
              "    <tr>\n",
              "      <th>4</th>\n",
              "      <td>2</td>\n",
              "      <td>1.0</td>\n",
              "      <td>38</td>\n",
              "      <td>S</td>\n",
              "      <td>1.0</td>\n",
              "      <td>A</td>\n",
              "      <td>1</td>\n",
              "      <td>1.0</td>\n",
              "      <td>NC</td>\n",
              "      <td>-1.0</td>\n",
              "      <td>-1</td>\n",
              "      <td>-1.0</td>\n",
              "    </tr>\n",
              "  </tbody>\n",
              "</table>\n",
              "</div>"
            ],
            "text/plain": [
              "   sexo  nacionalidad  edad  ... tipo_res_alumno  sit_lab_padres estudios_padres\n",
              "0     2           1.0    33  ...            -1.0              -1            -1.0\n",
              "1     2           1.0    35  ...            -1.0              -1            -1.0\n",
              "2     1           1.0    35  ...             1.0               3             3.0\n",
              "3     2           1.0    34  ...            -1.0              -1            -1.0\n",
              "4     2           1.0    38  ...            -1.0              -1            -1.0\n",
              "\n",
              "[5 rows x 12 columns]"
            ]
          },
          "metadata": {
            "tags": []
          },
          "execution_count": 2
        }
      ]
    },
    {
      "cell_type": "markdown",
      "metadata": {
        "id": "3mqFU-GzJitQ"
      },
      "source": [
        "### Separación del atributo de clase y las columnas a utilizar del dataset"
      ]
    },
    {
      "cell_type": "code",
      "metadata": {
        "id": "Ig34Y7SVJitR"
      },
      "source": [
        "labels = datos.calidad.values\n",
        "\n",
        "features = datos[['sexo', 'nacionalidad', 'edad', 'regular', \n",
        "                 'cnt_readmisiones', 'inactividad', 'estado_civil', \n",
        "                 'sit_lab_alumno', 'tipo_res_alumno', 'sit_lab_padres', 'estudios_padres']]"
      ],
      "execution_count": 3,
      "outputs": []
    },
    {
      "cell_type": "code",
      "metadata": {
        "id": "SxdtrVCpJitS",
        "colab": {
          "base_uri": "https://localhost:8080/",
          "height": 280
        },
        "outputId": "92655992-5fb8-4e1a-ba8d-2d6a996a2c3b"
      },
      "source": [
        "print(f\"Vista de los datos del atributo target: \\n{labels}\")\n",
        "print(\"-\"*50)\n",
        "print(\"Vista parcial de los datos sin el atributo target:\")\n",
        "features.head()"
      ],
      "execution_count": 4,
      "outputs": [
        {
          "output_type": "stream",
          "text": [
            "Vista de los datos del atributo target: \n",
            "['A' 'A' 'P' ... 'P' 'A' 'P']\n",
            "--------------------------------------------------\n",
            "Vista parcial de los datos sin el atributo target:\n"
          ],
          "name": "stdout"
        },
        {
          "output_type": "execute_result",
          "data": {
            "text/html": [
              "<div>\n",
              "<style scoped>\n",
              "    .dataframe tbody tr th:only-of-type {\n",
              "        vertical-align: middle;\n",
              "    }\n",
              "\n",
              "    .dataframe tbody tr th {\n",
              "        vertical-align: top;\n",
              "    }\n",
              "\n",
              "    .dataframe thead th {\n",
              "        text-align: right;\n",
              "    }\n",
              "</style>\n",
              "<table border=\"1\" class=\"dataframe\">\n",
              "  <thead>\n",
              "    <tr style=\"text-align: right;\">\n",
              "      <th></th>\n",
              "      <th>sexo</th>\n",
              "      <th>nacionalidad</th>\n",
              "      <th>edad</th>\n",
              "      <th>regular</th>\n",
              "      <th>cnt_readmisiones</th>\n",
              "      <th>inactividad</th>\n",
              "      <th>estado_civil</th>\n",
              "      <th>sit_lab_alumno</th>\n",
              "      <th>tipo_res_alumno</th>\n",
              "      <th>sit_lab_padres</th>\n",
              "      <th>estudios_padres</th>\n",
              "    </tr>\n",
              "  </thead>\n",
              "  <tbody>\n",
              "    <tr>\n",
              "      <th>0</th>\n",
              "      <td>2</td>\n",
              "      <td>1.0</td>\n",
              "      <td>33</td>\n",
              "      <td>S</td>\n",
              "      <td>1.0</td>\n",
              "      <td>1</td>\n",
              "      <td>1.0</td>\n",
              "      <td>NC</td>\n",
              "      <td>-1.0</td>\n",
              "      <td>-1</td>\n",
              "      <td>-1.0</td>\n",
              "    </tr>\n",
              "    <tr>\n",
              "      <th>1</th>\n",
              "      <td>2</td>\n",
              "      <td>1.0</td>\n",
              "      <td>35</td>\n",
              "      <td>N</td>\n",
              "      <td>2.0</td>\n",
              "      <td>6</td>\n",
              "      <td>1.0</td>\n",
              "      <td>NC</td>\n",
              "      <td>-1.0</td>\n",
              "      <td>-1</td>\n",
              "      <td>-1.0</td>\n",
              "    </tr>\n",
              "    <tr>\n",
              "      <th>2</th>\n",
              "      <td>1</td>\n",
              "      <td>1.0</td>\n",
              "      <td>35</td>\n",
              "      <td>N</td>\n",
              "      <td>2.0</td>\n",
              "      <td>1</td>\n",
              "      <td>1.0</td>\n",
              "      <td>N</td>\n",
              "      <td>1.0</td>\n",
              "      <td>3</td>\n",
              "      <td>3.0</td>\n",
              "    </tr>\n",
              "    <tr>\n",
              "      <th>3</th>\n",
              "      <td>2</td>\n",
              "      <td>1.0</td>\n",
              "      <td>34</td>\n",
              "      <td>N</td>\n",
              "      <td>2.0</td>\n",
              "      <td>1</td>\n",
              "      <td>3.0</td>\n",
              "      <td>NC</td>\n",
              "      <td>-1.0</td>\n",
              "      <td>-1</td>\n",
              "      <td>-1.0</td>\n",
              "    </tr>\n",
              "    <tr>\n",
              "      <th>4</th>\n",
              "      <td>2</td>\n",
              "      <td>1.0</td>\n",
              "      <td>38</td>\n",
              "      <td>S</td>\n",
              "      <td>1.0</td>\n",
              "      <td>1</td>\n",
              "      <td>1.0</td>\n",
              "      <td>NC</td>\n",
              "      <td>-1.0</td>\n",
              "      <td>-1</td>\n",
              "      <td>-1.0</td>\n",
              "    </tr>\n",
              "  </tbody>\n",
              "</table>\n",
              "</div>"
            ],
            "text/plain": [
              "   sexo  nacionalidad  edad  ... tipo_res_alumno  sit_lab_padres  estudios_padres\n",
              "0     2           1.0    33  ...            -1.0              -1             -1.0\n",
              "1     2           1.0    35  ...            -1.0              -1             -1.0\n",
              "2     1           1.0    35  ...             1.0               3              3.0\n",
              "3     2           1.0    34  ...            -1.0              -1             -1.0\n",
              "4     2           1.0    38  ...            -1.0              -1             -1.0\n",
              "\n",
              "[5 rows x 11 columns]"
            ]
          },
          "metadata": {
            "tags": []
          },
          "execution_count": 4
        }
      ]
    },
    {
      "cell_type": "markdown",
      "metadata": {
        "id": "CnMq5WmGJitW"
      },
      "source": [
        "### Ajustes de valores para un mejor rendimiento de las técnicas de aprendizaje automático"
      ]
    },
    {
      "cell_type": "markdown",
      "metadata": {
        "id": "IrhH2Nh9JitX"
      },
      "source": [
        "#### Antes de pasar a valores binarizados se puede hacer un mapeo para tener valores más representativos\n"
      ]
    },
    {
      "cell_type": "code",
      "metadata": {
        "id": "V-T-1FAIJitZ",
        "colab": {
          "base_uri": "https://localhost:8080/",
          "height": 206
        },
        "outputId": "140b0a29-8710-4424-d135-ff8013a2c0c3"
      },
      "source": [
        "\n",
        "# Columna: sexo\n",
        "cambios_sexo = {\n",
        "    2 : 'F', \n",
        "    1 : 'M'\n",
        "}\n",
        "\n",
        "sexoN = features.loc[:, ('sexo')].map(cambios_sexo).rename('sexoN')\n",
        "\n",
        "# Columna: nacionalidad\n",
        "cambios_nacionalidad = {\n",
        "    1 : 'AR',\n",
        "    2 : 'PY',\n",
        "    3 : 'BR',\n",
        "    4 : 'OT',\n",
        "    -1 : 'NC'\n",
        "} #OT : Otros países\n",
        "\n",
        "nacionalidadN = features.loc[:, ('nacionalidad')].map(cambios_nacionalidad).rename('nacionalidadN')\n",
        "\n",
        "# Columna: estado_civil\n",
        "cambios_est_civil = {\n",
        "    1 : 'S',\n",
        "    2 : 'P',\n",
        "    3 : 'C',\n",
        "    4 : 'D',\n",
        "    5 : 'V',\n",
        "    6 : 'NC'\n",
        "}\n",
        "\n",
        "est_civilN = features.loc[:, ('estado_civil')].map(cambios_est_civil).rename('est_civilN')\n",
        "\n",
        "# Columna: tipo_res_alumno\n",
        "cambios_tipo_res_alumno = {\n",
        "    1 : 'CP',\n",
        "    2 : 'VA',\n",
        "    3 : 'VP',\n",
        "    4 : 'RU',\n",
        "    -1 : 'NC'\n",
        "}\n",
        "\n",
        "tipo_res_alumnoN = features.loc[:, ('tipo_res_alumno')].map(cambios_tipo_res_alumno).rename('tipo_res_alumnoN')\n",
        "\n",
        "# Columna: sit_lab_padres\n",
        "cambios_sit_lab_padres = {\n",
        "    1 : 'D',\n",
        "    2 : 'BT',\n",
        "    3 : 'TI',\n",
        "    4 : 'TF',\n",
        "    5 : 'J',\n",
        "    -1 : 'NC'\n",
        "}\n",
        "\n",
        "sit_lab_padresN = features.loc[:, ('sit_lab_padres')].map(cambios_sit_lab_padres).rename('sit_lab_padresN')\n",
        "\n",
        "# Columna: estudios_padres\n",
        "cambios_estudios_padres = {\n",
        "    1 : 'SE',\n",
        "    2 : 'PI',\n",
        "    3 : 'PC',\n",
        "    4 : 'SI',\n",
        "    5 : 'SC',\n",
        "    6 : 'UI',\n",
        "    7 : 'UC',\n",
        "    -1 : 'NC'\n",
        "}\n",
        "\n",
        "estudios_padresN = features.loc[:, ('estudios_padres')].map(cambios_estudios_padres).rename('estudios_padresN')\n",
        "\n",
        "atributos_nuevos = pd.concat([estudios_padresN, sit_lab_padresN , tipo_res_alumnoN, est_civilN, nacionalidadN, sexoN], axis=1)\n",
        "atributos_nuevos.head()"
      ],
      "execution_count": 5,
      "outputs": [
        {
          "output_type": "execute_result",
          "data": {
            "text/html": [
              "<div>\n",
              "<style scoped>\n",
              "    .dataframe tbody tr th:only-of-type {\n",
              "        vertical-align: middle;\n",
              "    }\n",
              "\n",
              "    .dataframe tbody tr th {\n",
              "        vertical-align: top;\n",
              "    }\n",
              "\n",
              "    .dataframe thead th {\n",
              "        text-align: right;\n",
              "    }\n",
              "</style>\n",
              "<table border=\"1\" class=\"dataframe\">\n",
              "  <thead>\n",
              "    <tr style=\"text-align: right;\">\n",
              "      <th></th>\n",
              "      <th>estudios_padresN</th>\n",
              "      <th>sit_lab_padresN</th>\n",
              "      <th>tipo_res_alumnoN</th>\n",
              "      <th>est_civilN</th>\n",
              "      <th>nacionalidadN</th>\n",
              "      <th>sexoN</th>\n",
              "    </tr>\n",
              "  </thead>\n",
              "  <tbody>\n",
              "    <tr>\n",
              "      <th>0</th>\n",
              "      <td>NC</td>\n",
              "      <td>NC</td>\n",
              "      <td>NC</td>\n",
              "      <td>S</td>\n",
              "      <td>AR</td>\n",
              "      <td>F</td>\n",
              "    </tr>\n",
              "    <tr>\n",
              "      <th>1</th>\n",
              "      <td>NC</td>\n",
              "      <td>NC</td>\n",
              "      <td>NC</td>\n",
              "      <td>S</td>\n",
              "      <td>AR</td>\n",
              "      <td>F</td>\n",
              "    </tr>\n",
              "    <tr>\n",
              "      <th>2</th>\n",
              "      <td>PC</td>\n",
              "      <td>TI</td>\n",
              "      <td>CP</td>\n",
              "      <td>S</td>\n",
              "      <td>AR</td>\n",
              "      <td>M</td>\n",
              "    </tr>\n",
              "    <tr>\n",
              "      <th>3</th>\n",
              "      <td>NC</td>\n",
              "      <td>NC</td>\n",
              "      <td>NC</td>\n",
              "      <td>C</td>\n",
              "      <td>AR</td>\n",
              "      <td>F</td>\n",
              "    </tr>\n",
              "    <tr>\n",
              "      <th>4</th>\n",
              "      <td>NC</td>\n",
              "      <td>NC</td>\n",
              "      <td>NC</td>\n",
              "      <td>S</td>\n",
              "      <td>AR</td>\n",
              "      <td>F</td>\n",
              "    </tr>\n",
              "  </tbody>\n",
              "</table>\n",
              "</div>"
            ],
            "text/plain": [
              "  estudios_padresN sit_lab_padresN  ... nacionalidadN sexoN\n",
              "0               NC              NC  ...            AR     F\n",
              "1               NC              NC  ...            AR     F\n",
              "2               PC              TI  ...            AR     M\n",
              "3               NC              NC  ...            AR     F\n",
              "4               NC              NC  ...            AR     F\n",
              "\n",
              "[5 rows x 6 columns]"
            ]
          },
          "metadata": {
            "tags": []
          },
          "execution_count": 5
        }
      ]
    },
    {
      "cell_type": "code",
      "metadata": {
        "id": "CJUHUu68Jitc",
        "colab": {
          "base_uri": "https://localhost:8080/",
          "height": 206
        },
        "outputId": "f14f824e-979a-4912-ff1b-05ba5fa3b718"
      },
      "source": [
        "atributos_numericos = features.loc[:, ('edad', 'regular', 'inactividad', 'cnt_readmisiones', 'sit_lab_alumno')]\n",
        "atributos_numericos.head()"
      ],
      "execution_count": 6,
      "outputs": [
        {
          "output_type": "execute_result",
          "data": {
            "text/html": [
              "<div>\n",
              "<style scoped>\n",
              "    .dataframe tbody tr th:only-of-type {\n",
              "        vertical-align: middle;\n",
              "    }\n",
              "\n",
              "    .dataframe tbody tr th {\n",
              "        vertical-align: top;\n",
              "    }\n",
              "\n",
              "    .dataframe thead th {\n",
              "        text-align: right;\n",
              "    }\n",
              "</style>\n",
              "<table border=\"1\" class=\"dataframe\">\n",
              "  <thead>\n",
              "    <tr style=\"text-align: right;\">\n",
              "      <th></th>\n",
              "      <th>edad</th>\n",
              "      <th>regular</th>\n",
              "      <th>inactividad</th>\n",
              "      <th>cnt_readmisiones</th>\n",
              "      <th>sit_lab_alumno</th>\n",
              "    </tr>\n",
              "  </thead>\n",
              "  <tbody>\n",
              "    <tr>\n",
              "      <th>0</th>\n",
              "      <td>33</td>\n",
              "      <td>S</td>\n",
              "      <td>1</td>\n",
              "      <td>1.0</td>\n",
              "      <td>NC</td>\n",
              "    </tr>\n",
              "    <tr>\n",
              "      <th>1</th>\n",
              "      <td>35</td>\n",
              "      <td>N</td>\n",
              "      <td>6</td>\n",
              "      <td>2.0</td>\n",
              "      <td>NC</td>\n",
              "    </tr>\n",
              "    <tr>\n",
              "      <th>2</th>\n",
              "      <td>35</td>\n",
              "      <td>N</td>\n",
              "      <td>1</td>\n",
              "      <td>2.0</td>\n",
              "      <td>N</td>\n",
              "    </tr>\n",
              "    <tr>\n",
              "      <th>3</th>\n",
              "      <td>34</td>\n",
              "      <td>N</td>\n",
              "      <td>1</td>\n",
              "      <td>2.0</td>\n",
              "      <td>NC</td>\n",
              "    </tr>\n",
              "    <tr>\n",
              "      <th>4</th>\n",
              "      <td>38</td>\n",
              "      <td>S</td>\n",
              "      <td>1</td>\n",
              "      <td>1.0</td>\n",
              "      <td>NC</td>\n",
              "    </tr>\n",
              "  </tbody>\n",
              "</table>\n",
              "</div>"
            ],
            "text/plain": [
              "   edad regular  inactividad  cnt_readmisiones sit_lab_alumno\n",
              "0    33       S            1               1.0             NC\n",
              "1    35       N            6               2.0             NC\n",
              "2    35       N            1               2.0              N\n",
              "3    34       N            1               2.0             NC\n",
              "4    38       S            1               1.0             NC"
            ]
          },
          "metadata": {
            "tags": []
          },
          "execution_count": 6
        }
      ]
    },
    {
      "cell_type": "code",
      "metadata": {
        "id": "kiw6-LyPJite",
        "colab": {
          "base_uri": "https://localhost:8080/",
          "height": 206
        },
        "outputId": "0fd9859e-1e19-445c-f0e2-a59959a4a7bc"
      },
      "source": [
        "datos_procesados = pd.concat([atributos_numericos, atributos_nuevos], axis=1)\n",
        "datos_procesados.head()"
      ],
      "execution_count": 7,
      "outputs": [
        {
          "output_type": "execute_result",
          "data": {
            "text/html": [
              "<div>\n",
              "<style scoped>\n",
              "    .dataframe tbody tr th:only-of-type {\n",
              "        vertical-align: middle;\n",
              "    }\n",
              "\n",
              "    .dataframe tbody tr th {\n",
              "        vertical-align: top;\n",
              "    }\n",
              "\n",
              "    .dataframe thead th {\n",
              "        text-align: right;\n",
              "    }\n",
              "</style>\n",
              "<table border=\"1\" class=\"dataframe\">\n",
              "  <thead>\n",
              "    <tr style=\"text-align: right;\">\n",
              "      <th></th>\n",
              "      <th>edad</th>\n",
              "      <th>regular</th>\n",
              "      <th>inactividad</th>\n",
              "      <th>cnt_readmisiones</th>\n",
              "      <th>sit_lab_alumno</th>\n",
              "      <th>estudios_padresN</th>\n",
              "      <th>sit_lab_padresN</th>\n",
              "      <th>tipo_res_alumnoN</th>\n",
              "      <th>est_civilN</th>\n",
              "      <th>nacionalidadN</th>\n",
              "      <th>sexoN</th>\n",
              "    </tr>\n",
              "  </thead>\n",
              "  <tbody>\n",
              "    <tr>\n",
              "      <th>0</th>\n",
              "      <td>33</td>\n",
              "      <td>S</td>\n",
              "      <td>1</td>\n",
              "      <td>1.0</td>\n",
              "      <td>NC</td>\n",
              "      <td>NC</td>\n",
              "      <td>NC</td>\n",
              "      <td>NC</td>\n",
              "      <td>S</td>\n",
              "      <td>AR</td>\n",
              "      <td>F</td>\n",
              "    </tr>\n",
              "    <tr>\n",
              "      <th>1</th>\n",
              "      <td>35</td>\n",
              "      <td>N</td>\n",
              "      <td>6</td>\n",
              "      <td>2.0</td>\n",
              "      <td>NC</td>\n",
              "      <td>NC</td>\n",
              "      <td>NC</td>\n",
              "      <td>NC</td>\n",
              "      <td>S</td>\n",
              "      <td>AR</td>\n",
              "      <td>F</td>\n",
              "    </tr>\n",
              "    <tr>\n",
              "      <th>2</th>\n",
              "      <td>35</td>\n",
              "      <td>N</td>\n",
              "      <td>1</td>\n",
              "      <td>2.0</td>\n",
              "      <td>N</td>\n",
              "      <td>PC</td>\n",
              "      <td>TI</td>\n",
              "      <td>CP</td>\n",
              "      <td>S</td>\n",
              "      <td>AR</td>\n",
              "      <td>M</td>\n",
              "    </tr>\n",
              "    <tr>\n",
              "      <th>3</th>\n",
              "      <td>34</td>\n",
              "      <td>N</td>\n",
              "      <td>1</td>\n",
              "      <td>2.0</td>\n",
              "      <td>NC</td>\n",
              "      <td>NC</td>\n",
              "      <td>NC</td>\n",
              "      <td>NC</td>\n",
              "      <td>C</td>\n",
              "      <td>AR</td>\n",
              "      <td>F</td>\n",
              "    </tr>\n",
              "    <tr>\n",
              "      <th>4</th>\n",
              "      <td>38</td>\n",
              "      <td>S</td>\n",
              "      <td>1</td>\n",
              "      <td>1.0</td>\n",
              "      <td>NC</td>\n",
              "      <td>NC</td>\n",
              "      <td>NC</td>\n",
              "      <td>NC</td>\n",
              "      <td>S</td>\n",
              "      <td>AR</td>\n",
              "      <td>F</td>\n",
              "    </tr>\n",
              "  </tbody>\n",
              "</table>\n",
              "</div>"
            ],
            "text/plain": [
              "   edad regular  inactividad  ...  est_civilN nacionalidadN sexoN\n",
              "0    33       S            1  ...           S            AR     F\n",
              "1    35       N            6  ...           S            AR     F\n",
              "2    35       N            1  ...           S            AR     M\n",
              "3    34       N            1  ...           C            AR     F\n",
              "4    38       S            1  ...           S            AR     F\n",
              "\n",
              "[5 rows x 11 columns]"
            ]
          },
          "metadata": {
            "tags": []
          },
          "execution_count": 7
        }
      ]
    },
    {
      "cell_type": "markdown",
      "metadata": {
        "id": "ERgjef-iJitg"
      },
      "source": [
        "#### Se pasa a binarizar los atributos."
      ]
    },
    {
      "cell_type": "code",
      "metadata": {
        "id": "_RsnNOPvJith",
        "colab": {
          "base_uri": "https://localhost:8080/",
          "height": 226
        },
        "outputId": "595f374c-a250-44e1-c477-74c4fbc289b6"
      },
      "source": [
        "data = pd.get_dummies(datos_procesados)\n",
        "data.head()"
      ],
      "execution_count": 8,
      "outputs": [
        {
          "output_type": "execute_result",
          "data": {
            "text/html": [
              "<div>\n",
              "<style scoped>\n",
              "    .dataframe tbody tr th:only-of-type {\n",
              "        vertical-align: middle;\n",
              "    }\n",
              "\n",
              "    .dataframe tbody tr th {\n",
              "        vertical-align: top;\n",
              "    }\n",
              "\n",
              "    .dataframe thead th {\n",
              "        text-align: right;\n",
              "    }\n",
              "</style>\n",
              "<table border=\"1\" class=\"dataframe\">\n",
              "  <thead>\n",
              "    <tr style=\"text-align: right;\">\n",
              "      <th></th>\n",
              "      <th>edad</th>\n",
              "      <th>inactividad</th>\n",
              "      <th>cnt_readmisiones</th>\n",
              "      <th>regular_N</th>\n",
              "      <th>regular_S</th>\n",
              "      <th>sit_lab_alumno_N</th>\n",
              "      <th>sit_lab_alumno_NC</th>\n",
              "      <th>sit_lab_alumno_S</th>\n",
              "      <th>estudios_padresN_NC</th>\n",
              "      <th>estudios_padresN_PC</th>\n",
              "      <th>estudios_padresN_PI</th>\n",
              "      <th>estudios_padresN_SC</th>\n",
              "      <th>estudios_padresN_SE</th>\n",
              "      <th>estudios_padresN_SI</th>\n",
              "      <th>estudios_padresN_UC</th>\n",
              "      <th>estudios_padresN_UI</th>\n",
              "      <th>sit_lab_padresN_BT</th>\n",
              "      <th>sit_lab_padresN_D</th>\n",
              "      <th>sit_lab_padresN_J</th>\n",
              "      <th>sit_lab_padresN_NC</th>\n",
              "      <th>sit_lab_padresN_TF</th>\n",
              "      <th>sit_lab_padresN_TI</th>\n",
              "      <th>tipo_res_alumnoN_CP</th>\n",
              "      <th>tipo_res_alumnoN_NC</th>\n",
              "      <th>tipo_res_alumnoN_RU</th>\n",
              "      <th>tipo_res_alumnoN_VA</th>\n",
              "      <th>tipo_res_alumnoN_VP</th>\n",
              "      <th>est_civilN_C</th>\n",
              "      <th>est_civilN_D</th>\n",
              "      <th>est_civilN_NC</th>\n",
              "      <th>est_civilN_P</th>\n",
              "      <th>est_civilN_S</th>\n",
              "      <th>est_civilN_V</th>\n",
              "      <th>nacionalidadN_AR</th>\n",
              "      <th>nacionalidadN_BR</th>\n",
              "      <th>nacionalidadN_NC</th>\n",
              "      <th>nacionalidadN_OT</th>\n",
              "      <th>nacionalidadN_PY</th>\n",
              "      <th>sexoN_F</th>\n",
              "      <th>sexoN_M</th>\n",
              "    </tr>\n",
              "  </thead>\n",
              "  <tbody>\n",
              "    <tr>\n",
              "      <th>0</th>\n",
              "      <td>33</td>\n",
              "      <td>1</td>\n",
              "      <td>1.0</td>\n",
              "      <td>0</td>\n",
              "      <td>1</td>\n",
              "      <td>0</td>\n",
              "      <td>1</td>\n",
              "      <td>0</td>\n",
              "      <td>1</td>\n",
              "      <td>0</td>\n",
              "      <td>0</td>\n",
              "      <td>0</td>\n",
              "      <td>0</td>\n",
              "      <td>0</td>\n",
              "      <td>0</td>\n",
              "      <td>0</td>\n",
              "      <td>0</td>\n",
              "      <td>0</td>\n",
              "      <td>0</td>\n",
              "      <td>1</td>\n",
              "      <td>0</td>\n",
              "      <td>0</td>\n",
              "      <td>0</td>\n",
              "      <td>1</td>\n",
              "      <td>0</td>\n",
              "      <td>0</td>\n",
              "      <td>0</td>\n",
              "      <td>0</td>\n",
              "      <td>0</td>\n",
              "      <td>0</td>\n",
              "      <td>0</td>\n",
              "      <td>1</td>\n",
              "      <td>0</td>\n",
              "      <td>1</td>\n",
              "      <td>0</td>\n",
              "      <td>0</td>\n",
              "      <td>0</td>\n",
              "      <td>0</td>\n",
              "      <td>1</td>\n",
              "      <td>0</td>\n",
              "    </tr>\n",
              "    <tr>\n",
              "      <th>1</th>\n",
              "      <td>35</td>\n",
              "      <td>6</td>\n",
              "      <td>2.0</td>\n",
              "      <td>1</td>\n",
              "      <td>0</td>\n",
              "      <td>0</td>\n",
              "      <td>1</td>\n",
              "      <td>0</td>\n",
              "      <td>1</td>\n",
              "      <td>0</td>\n",
              "      <td>0</td>\n",
              "      <td>0</td>\n",
              "      <td>0</td>\n",
              "      <td>0</td>\n",
              "      <td>0</td>\n",
              "      <td>0</td>\n",
              "      <td>0</td>\n",
              "      <td>0</td>\n",
              "      <td>0</td>\n",
              "      <td>1</td>\n",
              "      <td>0</td>\n",
              "      <td>0</td>\n",
              "      <td>0</td>\n",
              "      <td>1</td>\n",
              "      <td>0</td>\n",
              "      <td>0</td>\n",
              "      <td>0</td>\n",
              "      <td>0</td>\n",
              "      <td>0</td>\n",
              "      <td>0</td>\n",
              "      <td>0</td>\n",
              "      <td>1</td>\n",
              "      <td>0</td>\n",
              "      <td>1</td>\n",
              "      <td>0</td>\n",
              "      <td>0</td>\n",
              "      <td>0</td>\n",
              "      <td>0</td>\n",
              "      <td>1</td>\n",
              "      <td>0</td>\n",
              "    </tr>\n",
              "    <tr>\n",
              "      <th>2</th>\n",
              "      <td>35</td>\n",
              "      <td>1</td>\n",
              "      <td>2.0</td>\n",
              "      <td>1</td>\n",
              "      <td>0</td>\n",
              "      <td>1</td>\n",
              "      <td>0</td>\n",
              "      <td>0</td>\n",
              "      <td>0</td>\n",
              "      <td>1</td>\n",
              "      <td>0</td>\n",
              "      <td>0</td>\n",
              "      <td>0</td>\n",
              "      <td>0</td>\n",
              "      <td>0</td>\n",
              "      <td>0</td>\n",
              "      <td>0</td>\n",
              "      <td>0</td>\n",
              "      <td>0</td>\n",
              "      <td>0</td>\n",
              "      <td>0</td>\n",
              "      <td>1</td>\n",
              "      <td>1</td>\n",
              "      <td>0</td>\n",
              "      <td>0</td>\n",
              "      <td>0</td>\n",
              "      <td>0</td>\n",
              "      <td>0</td>\n",
              "      <td>0</td>\n",
              "      <td>0</td>\n",
              "      <td>0</td>\n",
              "      <td>1</td>\n",
              "      <td>0</td>\n",
              "      <td>1</td>\n",
              "      <td>0</td>\n",
              "      <td>0</td>\n",
              "      <td>0</td>\n",
              "      <td>0</td>\n",
              "      <td>0</td>\n",
              "      <td>1</td>\n",
              "    </tr>\n",
              "    <tr>\n",
              "      <th>3</th>\n",
              "      <td>34</td>\n",
              "      <td>1</td>\n",
              "      <td>2.0</td>\n",
              "      <td>1</td>\n",
              "      <td>0</td>\n",
              "      <td>0</td>\n",
              "      <td>1</td>\n",
              "      <td>0</td>\n",
              "      <td>1</td>\n",
              "      <td>0</td>\n",
              "      <td>0</td>\n",
              "      <td>0</td>\n",
              "      <td>0</td>\n",
              "      <td>0</td>\n",
              "      <td>0</td>\n",
              "      <td>0</td>\n",
              "      <td>0</td>\n",
              "      <td>0</td>\n",
              "      <td>0</td>\n",
              "      <td>1</td>\n",
              "      <td>0</td>\n",
              "      <td>0</td>\n",
              "      <td>0</td>\n",
              "      <td>1</td>\n",
              "      <td>0</td>\n",
              "      <td>0</td>\n",
              "      <td>0</td>\n",
              "      <td>1</td>\n",
              "      <td>0</td>\n",
              "      <td>0</td>\n",
              "      <td>0</td>\n",
              "      <td>0</td>\n",
              "      <td>0</td>\n",
              "      <td>1</td>\n",
              "      <td>0</td>\n",
              "      <td>0</td>\n",
              "      <td>0</td>\n",
              "      <td>0</td>\n",
              "      <td>1</td>\n",
              "      <td>0</td>\n",
              "    </tr>\n",
              "    <tr>\n",
              "      <th>4</th>\n",
              "      <td>38</td>\n",
              "      <td>1</td>\n",
              "      <td>1.0</td>\n",
              "      <td>0</td>\n",
              "      <td>1</td>\n",
              "      <td>0</td>\n",
              "      <td>1</td>\n",
              "      <td>0</td>\n",
              "      <td>1</td>\n",
              "      <td>0</td>\n",
              "      <td>0</td>\n",
              "      <td>0</td>\n",
              "      <td>0</td>\n",
              "      <td>0</td>\n",
              "      <td>0</td>\n",
              "      <td>0</td>\n",
              "      <td>0</td>\n",
              "      <td>0</td>\n",
              "      <td>0</td>\n",
              "      <td>1</td>\n",
              "      <td>0</td>\n",
              "      <td>0</td>\n",
              "      <td>0</td>\n",
              "      <td>1</td>\n",
              "      <td>0</td>\n",
              "      <td>0</td>\n",
              "      <td>0</td>\n",
              "      <td>0</td>\n",
              "      <td>0</td>\n",
              "      <td>0</td>\n",
              "      <td>0</td>\n",
              "      <td>1</td>\n",
              "      <td>0</td>\n",
              "      <td>1</td>\n",
              "      <td>0</td>\n",
              "      <td>0</td>\n",
              "      <td>0</td>\n",
              "      <td>0</td>\n",
              "      <td>1</td>\n",
              "      <td>0</td>\n",
              "    </tr>\n",
              "  </tbody>\n",
              "</table>\n",
              "</div>"
            ],
            "text/plain": [
              "   edad  inactividad  cnt_readmisiones  ...  nacionalidadN_PY  sexoN_F  sexoN_M\n",
              "0    33            1               1.0  ...                 0        1        0\n",
              "1    35            6               2.0  ...                 0        1        0\n",
              "2    35            1               2.0  ...                 0        0        1\n",
              "3    34            1               2.0  ...                 0        1        0\n",
              "4    38            1               1.0  ...                 0        1        0\n",
              "\n",
              "[5 rows x 40 columns]"
            ]
          },
          "metadata": {
            "tags": []
          },
          "execution_count": 8
        }
      ]
    },
    {
      "cell_type": "code",
      "metadata": {
        "id": "DAqsD50DJitt",
        "colab": {
          "base_uri": "https://localhost:8080/"
        },
        "outputId": "3eb5c091-0c59-41a3-89d2-8c5b8126e139"
      },
      "source": [
        "# Se verifica la presencia de valores nulos\n",
        "np.isnan(data).any()\n",
        "\n",
        "#data.info()"
      ],
      "execution_count": 9,
      "outputs": [
        {
          "output_type": "execute_result",
          "data": {
            "text/plain": [
              "edad                   False\n",
              "inactividad            False\n",
              "cnt_readmisiones       False\n",
              "regular_N              False\n",
              "regular_S              False\n",
              "sit_lab_alumno_N       False\n",
              "sit_lab_alumno_NC      False\n",
              "sit_lab_alumno_S       False\n",
              "estudios_padresN_NC    False\n",
              "estudios_padresN_PC    False\n",
              "estudios_padresN_PI    False\n",
              "estudios_padresN_SC    False\n",
              "estudios_padresN_SE    False\n",
              "estudios_padresN_SI    False\n",
              "estudios_padresN_UC    False\n",
              "estudios_padresN_UI    False\n",
              "sit_lab_padresN_BT     False\n",
              "sit_lab_padresN_D      False\n",
              "sit_lab_padresN_J      False\n",
              "sit_lab_padresN_NC     False\n",
              "sit_lab_padresN_TF     False\n",
              "sit_lab_padresN_TI     False\n",
              "tipo_res_alumnoN_CP    False\n",
              "tipo_res_alumnoN_NC    False\n",
              "tipo_res_alumnoN_RU    False\n",
              "tipo_res_alumnoN_VA    False\n",
              "tipo_res_alumnoN_VP    False\n",
              "est_civilN_C           False\n",
              "est_civilN_D           False\n",
              "est_civilN_NC          False\n",
              "est_civilN_P           False\n",
              "est_civilN_S           False\n",
              "est_civilN_V           False\n",
              "nacionalidadN_AR       False\n",
              "nacionalidadN_BR       False\n",
              "nacionalidadN_NC       False\n",
              "nacionalidadN_OT       False\n",
              "nacionalidadN_PY       False\n",
              "sexoN_F                False\n",
              "sexoN_M                False\n",
              "dtype: bool"
            ]
          },
          "metadata": {
            "tags": []
          },
          "execution_count": 9
        }
      ]
    },
    {
      "cell_type": "markdown",
      "metadata": {
        "id": "UMBSjJ9hJitu"
      },
      "source": [
        "### Generación de los datasets de entrenamiento y testing"
      ]
    },
    {
      "cell_type": "code",
      "metadata": {
        "id": "D9yHnXh-Jitw"
      },
      "source": [
        "from sklearn.model_selection import train_test_split\n",
        "\n",
        "# Se reparten los datos disponibles en conjuntos para entrenamiento y testeo\n",
        "\n",
        "train_data, test_data, train_labels, test_labels = train_test_split(data, labels, random_state = 42) \n",
        "\n",
        "# Toma por defecto 75% (entrenamiento) - 25% (testeo)\n",
        "# Se podría modificar con el parámetro test_size = 0.## y el complemento para training"
      ],
      "execution_count": 10,
      "outputs": []
    },
    {
      "cell_type": "code",
      "metadata": {
        "id": "3AcSkCqWJitw",
        "colab": {
          "base_uri": "https://localhost:8080/"
        },
        "outputId": "5a4d687c-2f61-471f-ad7a-646aa398c6ee"
      },
      "source": [
        "# Vista de los datos de entrenamiento para una fila\n",
        "\n",
        "print(f\"Un registro de entrenamiento: \\n{train_data.iloc[1]}\")\n",
        "print(\"-\"*50)\n",
        "print(f\"Label del registro: \\n{train_labels[1]}\")"
      ],
      "execution_count": 11,
      "outputs": [
        {
          "output_type": "stream",
          "text": [
            "Un registro de entrenamiento: \n",
            "edad                   32.0\n",
            "inactividad             0.0\n",
            "cnt_readmisiones        1.0\n",
            "regular_N               1.0\n",
            "regular_S               0.0\n",
            "sit_lab_alumno_N        0.0\n",
            "sit_lab_alumno_NC       1.0\n",
            "sit_lab_alumno_S        0.0\n",
            "estudios_padresN_NC     0.0\n",
            "estudios_padresN_PC     0.0\n",
            "estudios_padresN_PI     0.0\n",
            "estudios_padresN_SC     1.0\n",
            "estudios_padresN_SE     0.0\n",
            "estudios_padresN_SI     0.0\n",
            "estudios_padresN_UC     0.0\n",
            "estudios_padresN_UI     0.0\n",
            "sit_lab_padresN_BT      0.0\n",
            "sit_lab_padresN_D       0.0\n",
            "sit_lab_padresN_J       0.0\n",
            "sit_lab_padresN_NC      0.0\n",
            "sit_lab_padresN_TF      0.0\n",
            "sit_lab_padresN_TI      1.0\n",
            "tipo_res_alumnoN_CP     0.0\n",
            "tipo_res_alumnoN_NC     1.0\n",
            "tipo_res_alumnoN_RU     0.0\n",
            "tipo_res_alumnoN_VA     0.0\n",
            "tipo_res_alumnoN_VP     0.0\n",
            "est_civilN_C            0.0\n",
            "est_civilN_D            0.0\n",
            "est_civilN_NC           0.0\n",
            "est_civilN_P            0.0\n",
            "est_civilN_S            1.0\n",
            "est_civilN_V            0.0\n",
            "nacionalidadN_AR        1.0\n",
            "nacionalidadN_BR        0.0\n",
            "nacionalidadN_NC        0.0\n",
            "nacionalidadN_OT        0.0\n",
            "nacionalidadN_PY        0.0\n",
            "sexoN_F                 1.0\n",
            "sexoN_M                 0.0\n",
            "Name: 381, dtype: float64\n",
            "--------------------------------------------------\n",
            "Label del registro: \n",
            "A\n"
          ],
          "name": "stdout"
        }
      ]
    },
    {
      "cell_type": "code",
      "metadata": {
        "id": "9KVZBsMtJity",
        "colab": {
          "base_uri": "https://localhost:8080/"
        },
        "outputId": "cdc7f6d8-1b4d-483b-a276-a887895ab2e2"
      },
      "source": [
        "# Vista de los datos de testeo para una fila\n",
        "\n",
        "print(f\"Un registro de testeo: \\n{test_data.iloc[1]}\")\n",
        "print(\"-\"*50)\n",
        "print(f\"Label del registro: \\n{test_labels[1]}\")"
      ],
      "execution_count": 12,
      "outputs": [
        {
          "output_type": "stream",
          "text": [
            "Un registro de testeo: \n",
            "edad                   32.0\n",
            "inactividad             1.0\n",
            "cnt_readmisiones        0.0\n",
            "regular_N               0.0\n",
            "regular_S               1.0\n",
            "sit_lab_alumno_N        0.0\n",
            "sit_lab_alumno_NC       1.0\n",
            "sit_lab_alumno_S        0.0\n",
            "estudios_padresN_NC     0.0\n",
            "estudios_padresN_PC     0.0\n",
            "estudios_padresN_PI     0.0\n",
            "estudios_padresN_SC     0.0\n",
            "estudios_padresN_SE     1.0\n",
            "estudios_padresN_SI     0.0\n",
            "estudios_padresN_UC     0.0\n",
            "estudios_padresN_UI     0.0\n",
            "sit_lab_padresN_BT      0.0\n",
            "sit_lab_padresN_D       0.0\n",
            "sit_lab_padresN_J       0.0\n",
            "sit_lab_padresN_NC      1.0\n",
            "sit_lab_padresN_TF      0.0\n",
            "sit_lab_padresN_TI      0.0\n",
            "tipo_res_alumnoN_CP     0.0\n",
            "tipo_res_alumnoN_NC     1.0\n",
            "tipo_res_alumnoN_RU     0.0\n",
            "tipo_res_alumnoN_VA     0.0\n",
            "tipo_res_alumnoN_VP     0.0\n",
            "est_civilN_C            0.0\n",
            "est_civilN_D            0.0\n",
            "est_civilN_NC           0.0\n",
            "est_civilN_P            0.0\n",
            "est_civilN_S            1.0\n",
            "est_civilN_V            0.0\n",
            "nacionalidadN_AR        1.0\n",
            "nacionalidadN_BR        0.0\n",
            "nacionalidadN_NC        0.0\n",
            "nacionalidadN_OT        0.0\n",
            "nacionalidadN_PY        0.0\n",
            "sexoN_F                 0.0\n",
            "sexoN_M                 1.0\n",
            "Name: 2246, dtype: float64\n",
            "--------------------------------------------------\n",
            "Label del registro: \n",
            "A\n"
          ],
          "name": "stdout"
        }
      ]
    },
    {
      "cell_type": "markdown",
      "metadata": {
        "id": "HEHa89xEJitz"
      },
      "source": [
        "### Aplicación de técnicas para extracción de patrones"
      ]
    },
    {
      "cell_type": "code",
      "metadata": {
        "id": "RyWeiO_pJitz"
      },
      "source": [
        "#Importaciones varias para la evaluación\n",
        "\n",
        "from sklearn.metrics import confusion_matrix,accuracy_score,classification_report\n",
        "from sklearn.metrics import plot_confusion_matrix\n",
        "\n",
        "# Configuración de la evaluación\n",
        "\n",
        "def evaluar_modelo(modelo, test_data, test_labels):\n",
        "    prediction = modelo.predict(test_data)\n",
        "    print('Rendimiento obtenido:',accuracy_score(test_labels,prediction))\n",
        "    print('Reporte de indicadores:\\n',classification_report(test_labels,prediction))\n",
        "    print('Matriz de confusión:')\n",
        "    cf = plot_confusion_matrix(modelo,test_data,test_labels,cmap='Blues_r',values_format='d')"
      ],
      "execution_count": 13,
      "outputs": []
    },
    {
      "cell_type": "markdown",
      "metadata": {
        "id": "hc6K_f29Jit0"
      },
      "source": [
        "#### ZeroR"
      ]
    },
    {
      "cell_type": "code",
      "metadata": {
        "id": "h-iVoqbdJit1",
        "colab": {
          "base_uri": "https://localhost:8080/"
        },
        "outputId": "04b06b71-2abb-44bd-93f0-27c2d92f178c"
      },
      "source": [
        "from sklearn.dummy import DummyClassifier\n",
        "\n",
        "clf = DummyClassifier('most_frequent')\n",
        "clf.fit(train_data, train_labels)\n",
        "\n",
        "prediction = clf.predict(test_data)\n",
        "print('Rendimiento obtenido:',accuracy_score(test_labels, prediction))\n",
        "print('Vista de una muestra de valores de predicción y datos de testeo:')\n",
        "print(prediction[:10])\n",
        "print(test_labels[:10])"
      ],
      "execution_count": 14,
      "outputs": [
        {
          "output_type": "stream",
          "text": [
            "Rendimiento obtenido: 0.5779334500875657\n",
            "Vista de una muestra de valores de predicción y datos de testeo:\n",
            "['A' 'A' 'A' 'A' 'A' 'A' 'A' 'A' 'A' 'A']\n",
            "['A' 'A' 'A' 'P' 'P' 'P' 'P' 'P' 'A' 'A']\n"
          ],
          "name": "stdout"
        }
      ]
    },
    {
      "cell_type": "markdown",
      "metadata": {
        "id": "jvqihxqcJit2"
      },
      "source": [
        "#### Regresión Logística"
      ]
    },
    {
      "cell_type": "code",
      "metadata": {
        "id": "CGrldxGTJit2",
        "colab": {
          "base_uri": "https://localhost:8080/"
        },
        "outputId": "5e9b3ae1-3f64-41ca-d227-5d67cef13ee5"
      },
      "source": [
        "from sklearn.linear_model import LogisticRegression\n",
        "\n",
        "# Prueba 1\n",
        "#lreg = LogisticRegression(solver = 'liblinear') #solver = 'liblinear'\n",
        "# Prueba 2\n",
        "#lreg = LogisticRegression(solver = 'newton-cg') #solver = 'newton-cg'\n",
        "# Prueba 3\n",
        "lreg = LogisticRegression(solver = 'liblinear', penalty='l1', intercept_scaling=2) #solver = 'liblinear'\n",
        "\n",
        "\n",
        "lreg.fit(train_data, train_labels)"
      ],
      "execution_count": 15,
      "outputs": [
        {
          "output_type": "execute_result",
          "data": {
            "text/plain": [
              "LogisticRegression(C=1.0, class_weight=None, dual=False, fit_intercept=True,\n",
              "                   intercept_scaling=2, l1_ratio=None, max_iter=100,\n",
              "                   multi_class='auto', n_jobs=None, penalty='l1',\n",
              "                   random_state=None, solver='liblinear', tol=0.0001, verbose=0,\n",
              "                   warm_start=False)"
            ]
          },
          "metadata": {
            "tags": []
          },
          "execution_count": 15
        }
      ]
    },
    {
      "cell_type": "code",
      "metadata": {
        "id": "assRW_ivJit4",
        "colab": {
          "base_uri": "https://localhost:8080/",
          "height": 499
        },
        "outputId": "3be0781b-26f9-4168-89cd-91608d82848d"
      },
      "source": [
        "evaluar_modelo(lreg, test_data, test_labels)"
      ],
      "execution_count": 16,
      "outputs": [
        {
          "output_type": "stream",
          "text": [
            "Rendimiento obtenido: 0.6444833625218914\n",
            "Reporte de indicadores:\n",
            "               precision    recall  f1-score   support\n",
            "\n",
            "           A       0.67      0.76      0.71       330\n",
            "           P       0.60      0.49      0.54       241\n",
            "\n",
            "    accuracy                           0.64       571\n",
            "   macro avg       0.63      0.62      0.62       571\n",
            "weighted avg       0.64      0.64      0.64       571\n",
            "\n",
            "Matriz de confusión:\n"
          ],
          "name": "stdout"
        },
        {
          "output_type": "display_data",
          "data": {
            "image/png": "[encoded data removed]",
            "text/plain": [
              "<Figure size 432x288 with 2 Axes>"
            ]
          },
          "metadata": {
            "tags": [],
            "needs_background": "light"
          }
        }
      ]
    },
    {
      "cell_type": "markdown",
      "metadata": {
        "id": "6F1PG2uUJit4"
      },
      "source": [
        "#### KNN"
      ]
    },
    {
      "cell_type": "code",
      "metadata": {
        "id": "1o59kU9aJit5",
        "colab": {
          "base_uri": "https://localhost:8080/"
        },
        "outputId": "88f2af5d-0a34-4e69-b2c4-6e08bd14e4ec"
      },
      "source": [
        "from sklearn.neighbors import KNeighborsClassifier\n",
        "\n",
        "knn = KNeighborsClassifier(n_neighbors=50, algorithm = 'ball_tree') \n",
        "\n",
        "knn.fit(train_data, train_labels)"
      ],
      "execution_count": 17,
      "outputs": [
        {
          "output_type": "execute_result",
          "data": {
            "text/plain": [
              "KNeighborsClassifier(algorithm='ball_tree', leaf_size=30, metric='minkowski',\n",
              "                     metric_params=None, n_jobs=None, n_neighbors=50, p=2,\n",
              "                     weights='uniform')"
            ]
          },
          "metadata": {
            "tags": []
          },
          "execution_count": 17
        }
      ]
    },
    {
      "cell_type": "code",
      "metadata": {
        "id": "bvCDcbUZJit6",
        "colab": {
          "base_uri": "https://localhost:8080/",
          "height": 0
        },
        "outputId": "ab4c895c-1eb2-4aeb-a5ad-49a3cc1ecd55"
      },
      "source": [
        "evaluar_modelo(knn, test_data, test_labels)"
      ],
      "execution_count": 18,
      "outputs": [
        {
          "output_type": "stream",
          "text": [
            "Rendimiento obtenido: 0.6287215411558669\n",
            "Reporte de indicadores:\n",
            "               precision    recall  f1-score   support\n",
            "\n",
            "           A       0.63      0.85      0.73       330\n",
            "           P       0.61      0.32      0.42       241\n",
            "\n",
            "    accuracy                           0.63       571\n",
            "   macro avg       0.62      0.59      0.58       571\n",
            "weighted avg       0.62      0.63      0.60       571\n",
            "\n",
            "Matriz de confusión:\n"
          ],
          "name": "stdout"
        },
        {
          "output_type": "display_data",
          "data": {
            "image/png": "[encoded data removed]",
            "text/plain": [
              "<Figure size 432x288 with 2 Axes>"
            ]
          },
          "metadata": {
            "tags": [],
            "needs_background": "light"
          }
        }
      ]
    },
    {
      "cell_type": "markdown",
      "metadata": {
        "id": "2IAuC8QWJit6"
      },
      "source": [
        "#### Árboles (TDIDT)"
      ]
    },
    {
      "cell_type": "code",
      "metadata": {
        "id": "kh8PTW69Jit7",
        "colab": {
          "base_uri": "https://localhost:8080/"
        },
        "outputId": "6a5d4e46-994e-4e53-a060-98cd5b94b584"
      },
      "source": [
        "from sklearn.tree import DecisionTreeClassifier\n",
        "\n",
        "# Prueba 1\n",
        "#dtc = DecisionTreeClassifier(max_depth=3, criterion='entropy', min_samples_split=10)\n",
        "\n",
        "# Prueba 2\n",
        "dtc = DecisionTreeClassifier(max_depth=5, criterion='entropy', min_samples_split=5)\n",
        "\n",
        "# Prueba 3\n",
        "#dtc = DecisionTreeClassifier(max_depth=5, criterion='gini', min_samples_split=5, min_samples_leaf=3)\n",
        "\n",
        "dtc.fit(train_data, train_labels)"
      ],
      "execution_count": 37,
      "outputs": [
        {
          "output_type": "execute_result",
          "data": {
            "text/plain": [
              "DecisionTreeClassifier(ccp_alpha=0.0, class_weight=None, criterion='entropy',\n",
              "                       max_depth=5, max_features=None, max_leaf_nodes=None,\n",
              "                       min_impurity_decrease=0.0, min_impurity_split=None,\n",
              "                       min_samples_leaf=1, min_samples_split=5,\n",
              "                       min_weight_fraction_leaf=0.0, presort='deprecated',\n",
              "                       random_state=None, splitter='best')"
            ]
          },
          "metadata": {
            "tags": []
          },
          "execution_count": 37
        }
      ]
    },
    {
      "cell_type": "code",
      "metadata": {
        "id": "JGDIisHPJit7",
        "colab": {
          "base_uri": "https://localhost:8080/",
          "height": 499
        },
        "outputId": "4040e2c6-8793-4bce-e37e-bb4a76c6aa85"
      },
      "source": [
        "evaluar_modelo(dtc, test_data, test_labels)"
      ],
      "execution_count": 38,
      "outputs": [
        {
          "output_type": "stream",
          "text": [
            "Rendimiento obtenido: 0.6462346760070052\n",
            "Reporte de indicadores:\n",
            "               precision    recall  f1-score   support\n",
            "\n",
            "           A       0.69      0.70      0.70       330\n",
            "           P       0.58      0.57      0.58       241\n",
            "\n",
            "    accuracy                           0.65       571\n",
            "   macro avg       0.64      0.64      0.64       571\n",
            "weighted avg       0.65      0.65      0.65       571\n",
            "\n",
            "Matriz de confusión:\n"
          ],
          "name": "stdout"
        },
        {
          "output_type": "display_data",
          "data": {
            "image/png": "[encoded data removed]",
            "text/plain": [
              "<Figure size 432x288 with 2 Axes>"
            ]
          },
          "metadata": {
            "tags": [],
            "needs_background": "light"
          }
        }
      ]
    },
    {
      "cell_type": "code",
      "metadata": {
        "id": "65N40IOaJit8",
        "colab": {
          "base_uri": "https://localhost:8080/",
          "height": 36
        },
        "outputId": "48119663-47bc-485f-f8fd-ac4a08808168"
      },
      "source": [
        "from IPython.display import SVG\n",
        "from sklearn.tree import export_graphviz  \n",
        "from graphviz import Source \n",
        "# Se requiere tener la librería graphviz instalada a nivel del kernel que usa la libreta  \n",
        "# Puede hacerse con: pip install graphviz | pip3 install graphviz | conda install -c anaconda graphviz \n",
        "\n",
        "# Linux: sudo apt install graphviz\n",
        "\n",
        "graph = Source(export_graphviz(dtc, out_file=None, feature_names=data.columns))\n",
        "graph.format = 'png'\n",
        "graph.render('dtree_render',view=True)"
      ],
      "execution_count": 21,
      "outputs": [
        {
          "output_type": "execute_result",
          "data": {
            "application/vnd.google.colaboratory.intrinsic+json": {
              "type": "string"
            },
            "text/plain": [
              "'dtree_render.png'"
            ]
          },
          "metadata": {
            "tags": []
          },
          "execution_count": 21
        }
      ]
    },
    {
      "cell_type": "markdown",
      "metadata": {
        "id": "rTZ5OFvSJit-"
      },
      "source": [
        "### Métodos de ensamblado de modelos: RandomForest"
      ]
    },
    {
      "cell_type": "code",
      "metadata": {
        "id": "gBVzFXJGJit_",
        "colab": {
          "base_uri": "https://localhost:8080/"
        },
        "outputId": "7ed592c6-bfdc-4d11-ad2a-9f37f2feabfa"
      },
      "source": [
        "from sklearn.ensemble import RandomForestClassifier\n",
        "\n",
        "# Prueba 1\n",
        "#rndf = RandomForestClassifier(n_estimators=10)\n",
        "\n",
        "# Prueba 2\n",
        "rndf = RandomForestClassifier(n_estimators=15)\n",
        "\n",
        "rndf.fit(train_data, train_labels)"
      ],
      "execution_count": 22,
      "outputs": [
        {
          "output_type": "execute_result",
          "data": {
            "text/plain": [
              "RandomForestClassifier(bootstrap=True, ccp_alpha=0.0, class_weight=None,\n",
              "                       criterion='gini', max_depth=None, max_features='auto',\n",
              "                       max_leaf_nodes=None, max_samples=None,\n",
              "                       min_impurity_decrease=0.0, min_impurity_split=None,\n",
              "                       min_samples_leaf=1, min_samples_split=2,\n",
              "                       min_weight_fraction_leaf=0.0, n_estimators=15,\n",
              "                       n_jobs=None, oob_score=False, random_state=None,\n",
              "                       verbose=0, warm_start=False)"
            ]
          },
          "metadata": {
            "tags": []
          },
          "execution_count": 22
        }
      ]
    },
    {
      "cell_type": "code",
      "metadata": {
        "id": "AehtRH8bJiuA",
        "colab": {
          "base_uri": "https://localhost:8080/",
          "height": 499
        },
        "outputId": "1e5de861-afeb-486b-c38a-215e4a895a55"
      },
      "source": [
        "evaluar_modelo(rndf, test_data, test_labels)"
      ],
      "execution_count": 23,
      "outputs": [
        {
          "output_type": "stream",
          "text": [
            "Rendimiento obtenido: 0.6077057793345009\n",
            "Reporte de indicadores:\n",
            "               precision    recall  f1-score   support\n",
            "\n",
            "           A       0.65      0.68      0.67       330\n",
            "           P       0.54      0.51      0.52       241\n",
            "\n",
            "    accuracy                           0.61       571\n",
            "   macro avg       0.60      0.59      0.59       571\n",
            "weighted avg       0.60      0.61      0.61       571\n",
            "\n",
            "Matriz de confusión:\n"
          ],
          "name": "stdout"
        },
        {
          "output_type": "display_data",
          "data": {
            "image/png": "[encoded data removed]",
            "text/plain": [
              "<Figure size 432x288 with 2 Axes>"
            ]
          },
          "metadata": {
            "tags": [],
            "needs_background": "light"
          }
        }
      ]
    },
    {
      "cell_type": "code",
      "metadata": {
        "id": "Tfae45dxJiuB",
        "colab": {
          "base_uri": "https://localhost:8080/"
        },
        "outputId": "d3da62f3-32d6-4511-a25e-6c95412fe5d0"
      },
      "source": [
        "from sklearn.ensemble import GradientBoostingClassifier\n",
        "\n",
        "# Prueba 1\n",
        "#gbc = GradientBoostingClassifier(n_estimators=100, learning_rate=1.0,\n",
        "#    max_depth=1, random_state=0)\n",
        "\n",
        "# Prueba 2\n",
        "#gbc = GradientBoostingClassifier(n_estimators=180, learning_rate=0.5,\n",
        "#    max_depth=1, random_state=0)\n",
        "\n",
        "# Prueba 3\n",
        "gbc = GradientBoostingClassifier(n_estimators=180, learning_rate=0.5,\n",
        "    max_depth=2, random_state=0)\n",
        "\n",
        "gbc.fit(train_data, train_labels)"
      ],
      "execution_count": 24,
      "outputs": [
        {
          "output_type": "execute_result",
          "data": {
            "text/plain": [
              "GradientBoostingClassifier(ccp_alpha=0.0, criterion='friedman_mse', init=None,\n",
              "                           learning_rate=0.5, loss='deviance', max_depth=2,\n",
              "                           max_features=None, max_leaf_nodes=None,\n",
              "                           min_impurity_decrease=0.0, min_impurity_split=None,\n",
              "                           min_samples_leaf=1, min_samples_split=2,\n",
              "                           min_weight_fraction_leaf=0.0, n_estimators=180,\n",
              "                           n_iter_no_change=None, presort='deprecated',\n",
              "                           random_state=0, subsample=1.0, tol=0.0001,\n",
              "                           validation_fraction=0.1, verbose=0,\n",
              "                           warm_start=False)"
            ]
          },
          "metadata": {
            "tags": []
          },
          "execution_count": 24
        }
      ]
    },
    {
      "cell_type": "code",
      "metadata": {
        "id": "FOQTifCoJiuB",
        "colab": {
          "base_uri": "https://localhost:8080/",
          "height": 499
        },
        "outputId": "65bf3f65-1323-4135-b6ff-e4ac63c6c96c"
      },
      "source": [
        "evaluar_modelo(gbc, test_data, test_labels)"
      ],
      "execution_count": 25,
      "outputs": [
        {
          "output_type": "stream",
          "text": [
            "Rendimiento obtenido: 0.6217162872154116\n",
            "Reporte de indicadores:\n",
            "               precision    recall  f1-score   support\n",
            "\n",
            "           A       0.66      0.72      0.69       330\n",
            "           P       0.56      0.49      0.52       241\n",
            "\n",
            "    accuracy                           0.62       571\n",
            "   macro avg       0.61      0.60      0.60       571\n",
            "weighted avg       0.62      0.62      0.62       571\n",
            "\n",
            "Matriz de confusión:\n"
          ],
          "name": "stdout"
        },
        {
          "output_type": "display_data",
          "data": {
            "image/png": "[encoded data removed]",
            "text/plain": [
              "<Figure size 432x288 with 2 Axes>"
            ]
          },
          "metadata": {
            "tags": [],
            "needs_background": "light"
          }
        }
      ]
    },
    {
      "cell_type": "markdown",
      "metadata": {
        "id": "sFVFbYuxJiuC"
      },
      "source": [
        "#### TODO: posibilidades de mejora de la libreta\n",
        "\n",
        "* Evaluación del clasificador a través de validación cruzada\n",
        "* Implementar clasificación con otras técnicas"
      ]
    },
    {
      "cell_type": "markdown",
      "metadata": {
        "id": "Rz4oPe7EJiuC"
      },
      "source": [
        "### Prueba de despliegue (aplicación sobre los datos nuevos)"
      ]
    },
    {
      "cell_type": "code",
      "metadata": {
        "id": "9KJuUQ44JiuD",
        "colab": {
          "resources": {
            "http://localhost:8080/nbextensions/google.colab/files.js": {
              "data": "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",
              "ok": true,
              "headers": [
                [
                  "content-type",
                  "application/javascript"
                ]
              ],
              "status": 200,
              "status_text": "OK"
            }
          },
          "base_uri": "https://localhost:8080/",
          "height": 264
        },
        "outputId": "1a527745-a7f9-4070-a90d-7e9ae3c8ee09"
      },
      "source": [
        "files.upload()\n",
        "\n",
        "datosNuevos = pd.read_csv('datos_nuevos.csv', index_col='Unnamed: 0')\n",
        "datosNuevos.head()"
      ],
      "execution_count": 26,
      "outputs": [
        {
          "output_type": "display_data",
          "data": {
            "text/html": [
              "\n",
              "     <input type=\"file\" id=\"files-246b8e9c-903a-4abc-856f-3f2d0f024e53\" name=\"files[]\" multiple disabled\n",
              "        style=\"border:none\" />\n",
              "     <output id=\"result-246b8e9c-903a-4abc-856f-3f2d0f024e53\">\n",
              "      Upload widget is only available when the cell has been executed in the\n",
              "      current browser session. Please rerun this cell to enable.\n",
              "      </output>\n",
              "      <script src=\"/nbextensions/google.colab/files.js\"></script> "
            ],
            "text/plain": [
              "<IPython.core.display.HTML object>"
            ]
          },
          "metadata": {
            "tags": []
          }
        },
        {
          "output_type": "stream",
          "text": [
            "Saving datos_nuevos.csv to datos_nuevos (1).csv\n"
          ],
          "name": "stdout"
        },
        {
          "output_type": "execute_result",
          "data": {
            "text/html": [
              "<div>\n",
              "<style scoped>\n",
              "    .dataframe tbody tr th:only-of-type {\n",
              "        vertical-align: middle;\n",
              "    }\n",
              "\n",
              "    .dataframe tbody tr th {\n",
              "        vertical-align: top;\n",
              "    }\n",
              "\n",
              "    .dataframe thead th {\n",
              "        text-align: right;\n",
              "    }\n",
              "</style>\n",
              "<table border=\"1\" class=\"dataframe\">\n",
              "  <thead>\n",
              "    <tr style=\"text-align: right;\">\n",
              "      <th></th>\n",
              "      <th>edad</th>\n",
              "      <th>nacionalidad</th>\n",
              "      <th>sexo</th>\n",
              "      <th>cnt_readmisiones</th>\n",
              "      <th>estado_civil</th>\n",
              "      <th>tipo_res_alumno</th>\n",
              "      <th>sit_lab_alumno</th>\n",
              "      <th>sit_lab_padres</th>\n",
              "      <th>estudios_padres</th>\n",
              "      <th>regular</th>\n",
              "      <th>inactividad</th>\n",
              "    </tr>\n",
              "  </thead>\n",
              "  <tbody>\n",
              "    <tr>\n",
              "      <th>0</th>\n",
              "      <td>40</td>\n",
              "      <td>1.0</td>\n",
              "      <td>1</td>\n",
              "      <td>0</td>\n",
              "      <td>3.0</td>\n",
              "      <td>3.0</td>\n",
              "      <td>S</td>\n",
              "      <td>2</td>\n",
              "      <td>5.0</td>\n",
              "      <td>S</td>\n",
              "      <td>22</td>\n",
              "    </tr>\n",
              "    <tr>\n",
              "      <th>1</th>\n",
              "      <td>31</td>\n",
              "      <td>1.0</td>\n",
              "      <td>2</td>\n",
              "      <td>0</td>\n",
              "      <td>3.0</td>\n",
              "      <td>3.0</td>\n",
              "      <td>S</td>\n",
              "      <td>2</td>\n",
              "      <td>3.0</td>\n",
              "      <td>S</td>\n",
              "      <td>13</td>\n",
              "    </tr>\n",
              "    <tr>\n",
              "      <th>2</th>\n",
              "      <td>31</td>\n",
              "      <td>1.0</td>\n",
              "      <td>2</td>\n",
              "      <td>0</td>\n",
              "      <td>4.0</td>\n",
              "      <td>3.0</td>\n",
              "      <td>S</td>\n",
              "      <td>-1</td>\n",
              "      <td>1.0</td>\n",
              "      <td>S</td>\n",
              "      <td>13</td>\n",
              "    </tr>\n",
              "    <tr>\n",
              "      <th>3</th>\n",
              "      <td>25</td>\n",
              "      <td>1.0</td>\n",
              "      <td>1</td>\n",
              "      <td>0</td>\n",
              "      <td>3.0</td>\n",
              "      <td>3.0</td>\n",
              "      <td>S</td>\n",
              "      <td>4</td>\n",
              "      <td>7.0</td>\n",
              "      <td>S</td>\n",
              "      <td>7</td>\n",
              "    </tr>\n",
              "    <tr>\n",
              "      <th>4</th>\n",
              "      <td>20</td>\n",
              "      <td>1.0</td>\n",
              "      <td>1</td>\n",
              "      <td>0</td>\n",
              "      <td>3.0</td>\n",
              "      <td>3.0</td>\n",
              "      <td>N</td>\n",
              "      <td>2</td>\n",
              "      <td>3.0</td>\n",
              "      <td>S</td>\n",
              "      <td>2</td>\n",
              "    </tr>\n",
              "  </tbody>\n",
              "</table>\n",
              "</div>"
            ],
            "text/plain": [
              "   edad  nacionalidad  sexo  ...  estudios_padres  regular  inactividad\n",
              "0    40           1.0     1  ...              5.0        S           22\n",
              "1    31           1.0     2  ...              3.0        S           13\n",
              "2    31           1.0     2  ...              1.0        S           13\n",
              "3    25           1.0     1  ...              7.0        S            7\n",
              "4    20           1.0     1  ...              3.0        S            2\n",
              "\n",
              "[5 rows x 11 columns]"
            ]
          },
          "metadata": {
            "tags": []
          },
          "execution_count": 26
        }
      ]
    },
    {
      "cell_type": "markdown",
      "metadata": {
        "id": "SaIHUWtYJiuE"
      },
      "source": [
        "#### Se tienen que aplicar las adaptaciones realizadas sobre los datos de entrenamiento"
      ]
    },
    {
      "cell_type": "code",
      "metadata": {
        "id": "Ecf0MDUXJiuF",
        "colab": {
          "base_uri": "https://localhost:8080/",
          "height": 206
        },
        "outputId": "12ed17a0-f6c9-4b26-ab88-36cd01a618f6"
      },
      "source": [
        "# Columna: sexo\n",
        "cambios_sexo = {\n",
        "    2 : 'F', \n",
        "    1 : 'M'\n",
        "}\n",
        "\n",
        "sexoN = datosNuevos.loc[:, ('sexo')].map(cambios_sexo).rename('sexoN')\n",
        "\n",
        "# Columna: nacionalidad\n",
        "cambios_nacionalidad = {\n",
        "    1 : 'AR',\n",
        "    2 : 'PY',\n",
        "    3 : 'BR',\n",
        "    4 : 'OT',\n",
        "    -1 : 'NC'\n",
        "}\n",
        "\n",
        "nacionalidadN = datosNuevos.loc[:, ('nacionalidad')].map(cambios_nacionalidad).rename('nacionalidadN')\n",
        "\n",
        "# Columna: estado_civil\n",
        "cambios_est_civil = {\n",
        "    1 : 'S',\n",
        "    2 : 'P',\n",
        "    3 : 'C',\n",
        "    4 : 'D',\n",
        "    5 : 'V',\n",
        "    6 : 'NC'\n",
        "}\n",
        "\n",
        "est_civilN = datosNuevos.loc[:, ('estado_civil')].map(cambios_est_civil).rename('est_civilN')\n",
        "\n",
        "# Columna: tipo_res_alumno\n",
        "cambios_tipo_res_alumno = {\n",
        "    1 : 'CP',\n",
        "    2 : 'VA',\n",
        "    3 : 'VP',\n",
        "    4 : 'RU',\n",
        "    -1 : 'NC'\n",
        "}\n",
        "\n",
        "tipo_res_alumnoN = datosNuevos.loc[:, ('tipo_res_alumno')].map(cambios_tipo_res_alumno).rename('tipo_res_alumnoN')\n",
        "\n",
        "# Columna: sit_lab_padres\n",
        "cambios_sit_lab_padres = {\n",
        "    1 : 'D',\n",
        "    2 : 'BT',\n",
        "    3 : 'TI',\n",
        "    4 : 'TF',\n",
        "    5 : 'J',\n",
        "    -1 : 'NC'\n",
        "}\n",
        "\n",
        "sit_lab_padresN = datosNuevos.loc[:, ('sit_lab_padres')].map(cambios_sit_lab_padres).rename('sit_lab_padresN')\n",
        "\n",
        "# Columna: estudios_padres\n",
        "cambios_estudios_padres = {\n",
        "    1 : 'SE',\n",
        "    2 : 'PI',\n",
        "    3 : 'PC',\n",
        "    4 : 'SI',\n",
        "    5 : 'SC',\n",
        "    6 : 'UI',\n",
        "    7 : 'UC',\n",
        "    -1 : 'NC'\n",
        "}\n",
        "\n",
        "estudios_padresN = datosNuevos.loc[:, ('estudios_padres')].map(cambios_estudios_padres).rename('estudios_padresN')\n",
        "\n",
        "atributos_nuevos21 = pd.concat([estudios_padresN, sit_lab_padresN , tipo_res_alumnoN, est_civilN, nacionalidadN, sexoN], axis=1)\n",
        "#atributos_nuevos.head()\n",
        "\n",
        "atributos_numericos21 = datosNuevos.loc[:, ('edad', 'regular', 'inactividad', 'cnt_readmisiones', 'sit_lab_alumno')]\n",
        "#atributos_numericos.head()\n",
        "\n",
        "datosNuevos_procesados = pd.concat([atributos_numericos21, atributos_nuevos21], axis=1)\n",
        "datosNuevos_procesados.head()"
      ],
      "execution_count": 27,
      "outputs": [
        {
          "output_type": "execute_result",
          "data": {
            "text/html": [
              "<div>\n",
              "<style scoped>\n",
              "    .dataframe tbody tr th:only-of-type {\n",
              "        vertical-align: middle;\n",
              "    }\n",
              "\n",
              "    .dataframe tbody tr th {\n",
              "        vertical-align: top;\n",
              "    }\n",
              "\n",
              "    .dataframe thead th {\n",
              "        text-align: right;\n",
              "    }\n",
              "</style>\n",
              "<table border=\"1\" class=\"dataframe\">\n",
              "  <thead>\n",
              "    <tr style=\"text-align: right;\">\n",
              "      <th></th>\n",
              "      <th>edad</th>\n",
              "      <th>regular</th>\n",
              "      <th>inactividad</th>\n",
              "      <th>cnt_readmisiones</th>\n",
              "      <th>sit_lab_alumno</th>\n",
              "      <th>estudios_padresN</th>\n",
              "      <th>sit_lab_padresN</th>\n",
              "      <th>tipo_res_alumnoN</th>\n",
              "      <th>est_civilN</th>\n",
              "      <th>nacionalidadN</th>\n",
              "      <th>sexoN</th>\n",
              "    </tr>\n",
              "  </thead>\n",
              "  <tbody>\n",
              "    <tr>\n",
              "      <th>0</th>\n",
              "      <td>40</td>\n",
              "      <td>S</td>\n",
              "      <td>22</td>\n",
              "      <td>0</td>\n",
              "      <td>S</td>\n",
              "      <td>SC</td>\n",
              "      <td>BT</td>\n",
              "      <td>VP</td>\n",
              "      <td>C</td>\n",
              "      <td>AR</td>\n",
              "      <td>M</td>\n",
              "    </tr>\n",
              "    <tr>\n",
              "      <th>1</th>\n",
              "      <td>31</td>\n",
              "      <td>S</td>\n",
              "      <td>13</td>\n",
              "      <td>0</td>\n",
              "      <td>S</td>\n",
              "      <td>PC</td>\n",
              "      <td>BT</td>\n",
              "      <td>VP</td>\n",
              "      <td>C</td>\n",
              "      <td>AR</td>\n",
              "      <td>F</td>\n",
              "    </tr>\n",
              "    <tr>\n",
              "      <th>2</th>\n",
              "      <td>31</td>\n",
              "      <td>S</td>\n",
              "      <td>13</td>\n",
              "      <td>0</td>\n",
              "      <td>S</td>\n",
              "      <td>SE</td>\n",
              "      <td>NC</td>\n",
              "      <td>VP</td>\n",
              "      <td>D</td>\n",
              "      <td>AR</td>\n",
              "      <td>F</td>\n",
              "    </tr>\n",
              "    <tr>\n",
              "      <th>3</th>\n",
              "      <td>25</td>\n",
              "      <td>S</td>\n",
              "      <td>7</td>\n",
              "      <td>0</td>\n",
              "      <td>S</td>\n",
              "      <td>UC</td>\n",
              "      <td>TF</td>\n",
              "      <td>VP</td>\n",
              "      <td>C</td>\n",
              "      <td>AR</td>\n",
              "      <td>M</td>\n",
              "    </tr>\n",
              "    <tr>\n",
              "      <th>4</th>\n",
              "      <td>20</td>\n",
              "      <td>S</td>\n",
              "      <td>2</td>\n",
              "      <td>0</td>\n",
              "      <td>N</td>\n",
              "      <td>PC</td>\n",
              "      <td>BT</td>\n",
              "      <td>VP</td>\n",
              "      <td>C</td>\n",
              "      <td>AR</td>\n",
              "      <td>M</td>\n",
              "    </tr>\n",
              "  </tbody>\n",
              "</table>\n",
              "</div>"
            ],
            "text/plain": [
              "   edad regular  inactividad  ...  est_civilN nacionalidadN sexoN\n",
              "0    40       S           22  ...           C            AR     M\n",
              "1    31       S           13  ...           C            AR     F\n",
              "2    31       S           13  ...           D            AR     F\n",
              "3    25       S            7  ...           C            AR     M\n",
              "4    20       S            2  ...           C            AR     M\n",
              "\n",
              "[5 rows x 11 columns]"
            ]
          },
          "metadata": {
            "tags": []
          },
          "execution_count": 27
        }
      ]
    },
    {
      "cell_type": "markdown",
      "metadata": {
        "id": "kDr5nM4tJiuG"
      },
      "source": [
        "#### Se obtienen los valores binarizados"
      ]
    },
    {
      "cell_type": "code",
      "metadata": {
        "id": "ygiiNkSGJiuH"
      },
      "source": [
        "# Se obtienen las transformaciones de valores correspondientes\n",
        "datosNuevos_codif = pd.get_dummies(datosNuevos_procesados)"
      ],
      "execution_count": 28,
      "outputs": []
    },
    {
      "cell_type": "markdown",
      "metadata": {
        "id": "0I0884xhJiuH"
      },
      "source": [
        "### Ajuste de columnas para coincidir con el dataset de entrenamiento"
      ]
    },
    {
      "cell_type": "code",
      "metadata": {
        "id": "VdYixdTiJiuI",
        "colab": {
          "base_uri": "https://localhost:8080/"
        },
        "outputId": "cc5b3aab-aeee-4f40-ffa6-e23998833914"
      },
      "source": [
        "# Dado que puede haber diferencias con el set de entrenamiento se emparejan\n",
        "\n",
        "columnas_faltantes = set(data.columns) - set(datosNuevos_codif.columns)\n",
        "columnas_faltantes\n",
        "for columna in columnas_faltantes:\n",
        "    datosNuevos_codif[columna] = 0 # Se agregan las columnas faltantes con valor 0\n",
        "\n",
        "print('Datos nuevos: ' + str(len(datosNuevos_codif.columns)))\n",
        "print('Datos entrenamiento: ' + str(len(data.columns)))\n",
        "print(set(data.columns) - set(datosNuevos_codif.columns))"
      ],
      "execution_count": 29,
      "outputs": [
        {
          "output_type": "stream",
          "text": [
            "Datos nuevos: 40\n",
            "Datos entrenamiento: 40\n",
            "set()\n"
          ],
          "name": "stdout"
        }
      ]
    },
    {
      "cell_type": "code",
      "metadata": {
        "id": "aN_AzGu3JiuJ",
        "colab": {
          "base_uri": "https://localhost:8080/"
        },
        "outputId": "1354c948-fa99-4685-b01d-1d0ec8c9b443"
      },
      "source": [
        "# Finalmente, se tiene que adaptar el orden de las columnas \n",
        "\n",
        "datosNuevos_codif = datosNuevos_codif[data.columns]\n",
        "datosNuevos_codif.columns"
      ],
      "execution_count": 30,
      "outputs": [
        {
          "output_type": "execute_result",
          "data": {
            "text/plain": [
              "Index(['edad', 'inactividad', 'cnt_readmisiones', 'regular_N', 'regular_S',\n",
              "       'sit_lab_alumno_N', 'sit_lab_alumno_NC', 'sit_lab_alumno_S',\n",
              "       'estudios_padresN_NC', 'estudios_padresN_PC', 'estudios_padresN_PI',\n",
              "       'estudios_padresN_SC', 'estudios_padresN_SE', 'estudios_padresN_SI',\n",
              "       'estudios_padresN_UC', 'estudios_padresN_UI', 'sit_lab_padresN_BT',\n",
              "       'sit_lab_padresN_D', 'sit_lab_padresN_J', 'sit_lab_padresN_NC',\n",
              "       'sit_lab_padresN_TF', 'sit_lab_padresN_TI', 'tipo_res_alumnoN_CP',\n",
              "       'tipo_res_alumnoN_NC', 'tipo_res_alumnoN_RU', 'tipo_res_alumnoN_VA',\n",
              "       'tipo_res_alumnoN_VP', 'est_civilN_C', 'est_civilN_D', 'est_civilN_NC',\n",
              "       'est_civilN_P', 'est_civilN_S', 'est_civilN_V', 'nacionalidadN_AR',\n",
              "       'nacionalidadN_BR', 'nacionalidadN_NC', 'nacionalidadN_OT',\n",
              "       'nacionalidadN_PY', 'sexoN_F', 'sexoN_M'],\n",
              "      dtype='object')"
            ]
          },
          "metadata": {
            "tags": []
          },
          "execution_count": 30
        }
      ]
    },
    {
      "cell_type": "markdown",
      "metadata": {
        "id": "tIozK-9aJiuK"
      },
      "source": [
        "### Predicción de valores en el dataset nuevo (2020-2021)"
      ]
    },
    {
      "cell_type": "code",
      "metadata": {
        "id": "dS_4qelQJiuM",
        "colab": {
          "base_uri": "https://localhost:8080/"
        },
        "outputId": "1227d37c-e917-4cb2-f93d-5e2278e7824a"
      },
      "source": [
        "# Se obtienen los valores para el dataset de predicción\n",
        "\n",
        "nuevos = datosNuevos_codif.values\n",
        "nuevos"
      ],
      "execution_count": 31,
      "outputs": [
        {
          "output_type": "execute_result",
          "data": {
            "text/plain": [
              "array([[40, 22,  0, ...,  0,  0,  1],\n",
              "       [31, 13,  0, ...,  0,  1,  0],\n",
              "       [31, 13,  0, ...,  0,  1,  0],\n",
              "       ...,\n",
              "       [18,  0,  1, ...,  0,  1,  0],\n",
              "       [18,  0,  0, ...,  0,  1,  0],\n",
              "       [18,  0,  0, ...,  0,  0,  1]])"
            ]
          },
          "metadata": {
            "tags": []
          },
          "execution_count": 31
        }
      ]
    },
    {
      "cell_type": "code",
      "metadata": {
        "id": "n1xlNyhCJiuN"
      },
      "source": [
        "# Se hace la predicción con los nuevos datos\n",
        "\n",
        "prediccion_nuevos = dtc.predict(nuevos)\n",
        "\n",
        "# Probar con los demás métodos"
      ],
      "execution_count": 39,
      "outputs": []
    },
    {
      "cell_type": "code",
      "metadata": {
        "id": "4xgZnpmVJiuN"
      },
      "source": [
        "# Se convierten de array a dataframe para ser agregados como columna nueva en el dataset\n",
        "prediccionDF = pd.DataFrame(prediccion_nuevos)"
      ],
      "execution_count": 40,
      "outputs": []
    },
    {
      "cell_type": "code",
      "metadata": {
        "id": "JQyvxRp6JiuO"
      },
      "source": [
        "# Se agrega la nueva columna\n",
        "datosNuevos['calidad'] = prediccionDF"
      ],
      "execution_count": 41,
      "outputs": []
    },
    {
      "cell_type": "code",
      "metadata": {
        "id": "2D3kljo7JiuP",
        "colab": {
          "base_uri": "https://localhost:8080/",
          "height": 206
        },
        "outputId": "453a3763-c205-4e99-e0af-957eb493f83b"
      },
      "source": [
        "datosNuevos.head()"
      ],
      "execution_count": 42,
      "outputs": [
        {
          "output_type": "execute_result",
          "data": {
            "text/html": [
              "<div>\n",
              "<style scoped>\n",
              "    .dataframe tbody tr th:only-of-type {\n",
              "        vertical-align: middle;\n",
              "    }\n",
              "\n",
              "    .dataframe tbody tr th {\n",
              "        vertical-align: top;\n",
              "    }\n",
              "\n",
              "    .dataframe thead th {\n",
              "        text-align: right;\n",
              "    }\n",
              "</style>\n",
              "<table border=\"1\" class=\"dataframe\">\n",
              "  <thead>\n",
              "    <tr style=\"text-align: right;\">\n",
              "      <th></th>\n",
              "      <th>edad</th>\n",
              "      <th>nacionalidad</th>\n",
              "      <th>sexo</th>\n",
              "      <th>cnt_readmisiones</th>\n",
              "      <th>estado_civil</th>\n",
              "      <th>tipo_res_alumno</th>\n",
              "      <th>sit_lab_alumno</th>\n",
              "      <th>sit_lab_padres</th>\n",
              "      <th>estudios_padres</th>\n",
              "      <th>regular</th>\n",
              "      <th>inactividad</th>\n",
              "      <th>calidad</th>\n",
              "    </tr>\n",
              "  </thead>\n",
              "  <tbody>\n",
              "    <tr>\n",
              "      <th>0</th>\n",
              "      <td>40</td>\n",
              "      <td>1.0</td>\n",
              "      <td>1</td>\n",
              "      <td>0</td>\n",
              "      <td>3.0</td>\n",
              "      <td>3.0</td>\n",
              "      <td>S</td>\n",
              "      <td>2</td>\n",
              "      <td>5.0</td>\n",
              "      <td>S</td>\n",
              "      <td>22</td>\n",
              "      <td>A</td>\n",
              "    </tr>\n",
              "    <tr>\n",
              "      <th>1</th>\n",
              "      <td>31</td>\n",
              "      <td>1.0</td>\n",
              "      <td>2</td>\n",
              "      <td>0</td>\n",
              "      <td>3.0</td>\n",
              "      <td>3.0</td>\n",
              "      <td>S</td>\n",
              "      <td>2</td>\n",
              "      <td>3.0</td>\n",
              "      <td>S</td>\n",
              "      <td>13</td>\n",
              "      <td>A</td>\n",
              "    </tr>\n",
              "    <tr>\n",
              "      <th>2</th>\n",
              "      <td>31</td>\n",
              "      <td>1.0</td>\n",
              "      <td>2</td>\n",
              "      <td>0</td>\n",
              "      <td>4.0</td>\n",
              "      <td>3.0</td>\n",
              "      <td>S</td>\n",
              "      <td>-1</td>\n",
              "      <td>1.0</td>\n",
              "      <td>S</td>\n",
              "      <td>13</td>\n",
              "      <td>A</td>\n",
              "    </tr>\n",
              "    <tr>\n",
              "      <th>3</th>\n",
              "      <td>25</td>\n",
              "      <td>1.0</td>\n",
              "      <td>1</td>\n",
              "      <td>0</td>\n",
              "      <td>3.0</td>\n",
              "      <td>3.0</td>\n",
              "      <td>S</td>\n",
              "      <td>4</td>\n",
              "      <td>7.0</td>\n",
              "      <td>S</td>\n",
              "      <td>7</td>\n",
              "      <td>A</td>\n",
              "    </tr>\n",
              "    <tr>\n",
              "      <th>4</th>\n",
              "      <td>20</td>\n",
              "      <td>1.0</td>\n",
              "      <td>1</td>\n",
              "      <td>0</td>\n",
              "      <td>3.0</td>\n",
              "      <td>3.0</td>\n",
              "      <td>N</td>\n",
              "      <td>2</td>\n",
              "      <td>3.0</td>\n",
              "      <td>S</td>\n",
              "      <td>2</td>\n",
              "      <td>P</td>\n",
              "    </tr>\n",
              "  </tbody>\n",
              "</table>\n",
              "</div>"
            ],
            "text/plain": [
              "   edad  nacionalidad  sexo  ...  regular  inactividad  calidad\n",
              "0    40           1.0     1  ...        S           22        A\n",
              "1    31           1.0     2  ...        S           13        A\n",
              "2    31           1.0     2  ...        S           13        A\n",
              "3    25           1.0     1  ...        S            7        A\n",
              "4    20           1.0     1  ...        S            2        P\n",
              "\n",
              "[5 rows x 12 columns]"
            ]
          },
          "metadata": {
            "tags": []
          },
          "execution_count": 42
        }
      ]
    },
    {
      "cell_type": "code",
      "metadata": {
        "id": "W9SVPj4AJiuP",
        "colab": {
          "base_uri": "https://localhost:8080/"
        },
        "outputId": "c5d39d0c-8951-4d2f-d513-348628f63d0b"
      },
      "source": [
        "# Se obtiene el conteo de valores para actualizar el documento del informe con la predicción realizada\n",
        "pd.value_counts(datosNuevos.calidad)"
      ],
      "execution_count": 43,
      "outputs": [
        {
          "output_type": "execute_result",
          "data": {
            "text/plain": [
              "P    19\n",
              "A    16\n",
              "Name: calidad, dtype: int64"
            ]
          },
          "metadata": {
            "tags": []
          },
          "execution_count": 43
        }
      ]
    }
  ]
}