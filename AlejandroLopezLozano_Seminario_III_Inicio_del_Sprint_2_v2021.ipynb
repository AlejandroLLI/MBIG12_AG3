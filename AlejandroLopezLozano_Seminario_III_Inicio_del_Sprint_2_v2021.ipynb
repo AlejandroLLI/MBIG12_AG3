{
  "nbformat": 4,
  "nbformat_minor": 0,
  "metadata": {
    "kernelspec": {
      "display_name": "Python 3",
      "language": "python",
      "name": "python3"
    },
    "language_info": {
      "codemirror_mode": {
        "name": "ipython",
        "version": 3
      },
      "file_extension": ".py",
      "mimetype": "text/x-python",
      "name": "python",
      "nbconvert_exporter": "python",
      "pygments_lexer": "ipython3",
      "version": "3.8.5"
    },
    "colab": {
      "name": "Seminario III - Inicio del Sprint 2 - v2021.ipynb",
      "provenance": []
    }
  },
  "cells": [
    {
      "cell_type": "markdown",
      "metadata": {
        "id": "UZ5H-6SBJIc4"
      },
      "source": [
        "# Máster en Big Data y Data Science\n",
        "\n",
        "# Metodologías de gestión y diseño de proyectos de big data\n",
        "\n",
        "## Seminario III - Actividades de Preparación de los Datos y Modelado\n",
        "\n",
        "---\n",
        "\n",
        "### Sprint 1 y 2"
      ]
    },
    {
      "cell_type": "markdown",
      "metadata": {
        "id": "32Dh7QZVJIc8"
      },
      "source": [
        "### Carga de librerias a utilizar"
      ]
    },
    {
      "cell_type": "code",
      "metadata": {
        "id": "gJ9pciH-JIc-"
      },
      "source": [
        "# Se importan las librerias a utilizar\n",
        "import pandas as pd\n",
        "import numpy as np\n",
        "\n",
        "from google.colab import files"
      ],
      "execution_count": null,
      "outputs": []
    },
    {
      "cell_type": "markdown",
      "metadata": {
        "id": "e6M2LIMSJIdA"
      },
      "source": [
        "### Lectura del dataset generado en el Sprint 1"
      ]
    },
    {
      "cell_type": "code",
      "metadata": {
        "id": "bhr0GvfPJIdB",
        "colab": {
          "resources": {
            "http://localhost:8080/nbextensions/google.colab/files.js": {
              "data": "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",
              "ok": true,
              "headers": [
                [
                  "content-type",
                  "application/javascript"
                ]
              ],
              "status": 200,
              "status_text": "OK"
            }
          },
          "base_uri": "https://localhost:8080/",
          "height": 264
        },
        "outputId": "200c7d1f-5568-450d-f2a9-7cdf9cb1b123"
      },
      "source": [
        "# Se hace la lectura del dataset del seminario y se obtiene su cabecera\n",
        "files.upload()\n",
        "\n",
        "datos = pd.read_csv('datos_completos_filtrado.csv', ',', index_col='Unnamed: 0')\n",
        "datos.head()"
      ],
      "execution_count": null,
      "outputs": [
        {
          "output_type": "display_data",
          "data": {
            "text/html": [
              "\n",
              "     <input type=\"file\" id=\"files-811def9b-9631-4158-a871-10947314d8b4\" name=\"files[]\" multiple disabled\n",
              "        style=\"border:none\" />\n",
              "     <output id=\"result-811def9b-9631-4158-a871-10947314d8b4\">\n",
              "      Upload widget is only available when the cell has been executed in the\n",
              "      current browser session. Please rerun this cell to enable.\n",
              "      </output>\n",
              "      <script src=\"/nbextensions/google.colab/files.js\"></script> "
            ],
            "text/plain": [
              "<IPython.core.display.HTML object>"
            ]
          },
          "metadata": {
            "tags": []
          }
        },
        {
          "output_type": "stream",
          "text": [
            "Saving datos_completos_filtrado.csv to datos_completos_filtrado.csv\n"
          ],
          "name": "stdout"
        },
        {
          "output_type": "execute_result",
          "data": {
            "text/html": [
              "<div>\n",
              "<style scoped>\n",
              "    .dataframe tbody tr th:only-of-type {\n",
              "        vertical-align: middle;\n",
              "    }\n",
              "\n",
              "    .dataframe tbody tr th {\n",
              "        vertical-align: top;\n",
              "    }\n",
              "\n",
              "    .dataframe thead th {\n",
              "        text-align: right;\n",
              "    }\n",
              "</style>\n",
              "<table border=\"1\" class=\"dataframe\">\n",
              "  <thead>\n",
              "    <tr style=\"text-align: right;\">\n",
              "      <th></th>\n",
              "      <th>sexo</th>\n",
              "      <th>nacionalidad</th>\n",
              "      <th>edad</th>\n",
              "      <th>regular</th>\n",
              "      <th>cnt_readmisiones</th>\n",
              "      <th>calidad</th>\n",
              "      <th>inactividad</th>\n",
              "      <th>estado_civil</th>\n",
              "      <th>sit_lab_alumno</th>\n",
              "      <th>tipo_res_alumno</th>\n",
              "      <th>sit_lab_padres</th>\n",
              "      <th>estudios_padres</th>\n",
              "    </tr>\n",
              "  </thead>\n",
              "  <tbody>\n",
              "    <tr>\n",
              "      <th>0</th>\n",
              "      <td>2</td>\n",
              "      <td>1.0</td>\n",
              "      <td>33</td>\n",
              "      <td>S</td>\n",
              "      <td>1.0</td>\n",
              "      <td>A</td>\n",
              "      <td>1</td>\n",
              "      <td>1.0</td>\n",
              "      <td>NC</td>\n",
              "      <td>-1.0</td>\n",
              "      <td>-1</td>\n",
              "      <td>-1.0</td>\n",
              "    </tr>\n",
              "    <tr>\n",
              "      <th>1</th>\n",
              "      <td>2</td>\n",
              "      <td>1.0</td>\n",
              "      <td>35</td>\n",
              "      <td>N</td>\n",
              "      <td>2.0</td>\n",
              "      <td>A</td>\n",
              "      <td>6</td>\n",
              "      <td>1.0</td>\n",
              "      <td>NC</td>\n",
              "      <td>-1.0</td>\n",
              "      <td>-1</td>\n",
              "      <td>-1.0</td>\n",
              "    </tr>\n",
              "    <tr>\n",
              "      <th>2</th>\n",
              "      <td>1</td>\n",
              "      <td>1.0</td>\n",
              "      <td>35</td>\n",
              "      <td>N</td>\n",
              "      <td>2.0</td>\n",
              "      <td>P</td>\n",
              "      <td>1</td>\n",
              "      <td>1.0</td>\n",
              "      <td>N</td>\n",
              "      <td>1.0</td>\n",
              "      <td>3</td>\n",
              "      <td>3.0</td>\n",
              "    </tr>\n",
              "    <tr>\n",
              "      <th>3</th>\n",
              "      <td>2</td>\n",
              "      <td>1.0</td>\n",
              "      <td>34</td>\n",
              "      <td>N</td>\n",
              "      <td>2.0</td>\n",
              "      <td>A</td>\n",
              "      <td>1</td>\n",
              "      <td>3.0</td>\n",
              "      <td>NC</td>\n",
              "      <td>-1.0</td>\n",
              "      <td>-1</td>\n",
              "      <td>-1.0</td>\n",
              "    </tr>\n",
              "    <tr>\n",
              "      <th>4</th>\n",
              "      <td>2</td>\n",
              "      <td>1.0</td>\n",
              "      <td>38</td>\n",
              "      <td>S</td>\n",
              "      <td>1.0</td>\n",
              "      <td>A</td>\n",
              "      <td>1</td>\n",
              "      <td>1.0</td>\n",
              "      <td>NC</td>\n",
              "      <td>-1.0</td>\n",
              "      <td>-1</td>\n",
              "      <td>-1.0</td>\n",
              "    </tr>\n",
              "  </tbody>\n",
              "</table>\n",
              "</div>"
            ],
            "text/plain": [
              "   sexo  nacionalidad  edad  ... tipo_res_alumno  sit_lab_padres estudios_padres\n",
              "0     2           1.0    33  ...            -1.0              -1            -1.0\n",
              "1     2           1.0    35  ...            -1.0              -1            -1.0\n",
              "2     1           1.0    35  ...             1.0               3             3.0\n",
              "3     2           1.0    34  ...            -1.0              -1            -1.0\n",
              "4     2           1.0    38  ...            -1.0              -1            -1.0\n",
              "\n",
              "[5 rows x 12 columns]"
            ]
          },
          "metadata": {
            "tags": []
          },
          "execution_count": 2
        }
      ]
    },
    {
      "cell_type": "markdown",
      "metadata": {
        "id": "KFRi6GXaJIdD"
      },
      "source": [
        "### Revisión de meta-datos"
      ]
    },
    {
      "cell_type": "code",
      "metadata": {
        "id": "8qJjoDoIJIdE"
      },
      "source": [
        "def descripcionDatosDataset(datos):\n",
        "    print(\"Cantidad de filas:\", datos.shape[0])\n",
        "    print(\"Cantidad de columnas:\", datos.shape[1])\n",
        "    print('-'*100)\n",
        "    for columna in datos.columns:\n",
        "        valoresDescripcion = ''\n",
        "        tipo = ''\n",
        "        if datos[columna].dtype == 'float64' or datos[columna].dtype == 'int64':\n",
        "            tipo = 'numérico'\n",
        "            valoresDescripcion = datos[columna].agg(['min', 'max', 'mean', 'std', 'median'])\n",
        "        else:\n",
        "            tipo = 'nominal' #categórico | string | no-numérico\n",
        "            valoresDescripcion = {'valoresPresentes' : datos[columna].unique(), \n",
        "                                  'cantidadNulos' : datos[columna].isna().sum()}\n",
        "                                 #'conteoValores' : pd.value_counts(datos[columna])}\n",
        "        print('Columna: ' + columna)\n",
        "        print('Tipo de datos: ' + tipo)\n",
        "        print('Descripción de valores:')\n",
        "        if tipo == 'numérico':\n",
        "            print(valoresDescripcion)\n",
        "        else:\n",
        "            print('-- Valores presentes (10 primeros): ' + str(valoresDescripcion['valoresPresentes'][:10]))\n",
        "            pctNulos = (valoresDescripcion['cantidadNulos'] / datos.shape[0]) * 100\n",
        "            print('-- Cantidad de nulos: ' + str(valoresDescripcion['cantidadNulos']) + ' = ' + \"{0:.2f}\".format(pctNulos) + '%')\n",
        "        print('-'*100)"
      ],
      "execution_count": null,
      "outputs": []
    },
    {
      "cell_type": "code",
      "metadata": {
        "colab": {
          "base_uri": "https://localhost:8080/"
        },
        "id": "0xvtvImGTvl-",
        "outputId": "b3c8f8d0-ebc5-4ccf-a856-ec4016de05b9"
      },
      "source": [
        "datos.info()"
      ],
      "execution_count": null,
      "outputs": [
        {
          "output_type": "stream",
          "text": [
            "<class 'pandas.core.frame.DataFrame'>\n",
            "Int64Index: 2283 entries, 0 to 2292\n",
            "Data columns (total 12 columns):\n",
            " #   Column            Non-Null Count  Dtype  \n",
            "---  ------            --------------  -----  \n",
            " 0   sexo              2283 non-null   int64  \n",
            " 1   nacionalidad      2283 non-null   float64\n",
            " 2   edad              2283 non-null   int64  \n",
            " 3   regular           2283 non-null   object \n",
            " 4   cnt_readmisiones  2283 non-null   float64\n",
            " 5   calidad           2283 non-null   object \n",
            " 6   inactividad       2283 non-null   int64  \n",
            " 7   estado_civil      2283 non-null   float64\n",
            " 8   sit_lab_alumno    2283 non-null   object \n",
            " 9   tipo_res_alumno   2283 non-null   float64\n",
            " 10  sit_lab_padres    2283 non-null   int64  \n",
            " 11  estudios_padres   2283 non-null   float64\n",
            "dtypes: float64(5), int64(4), object(3)\n",
            "memory usage: 231.9+ KB\n"
          ],
          "name": "stdout"
        }
      ]
    },
    {
      "cell_type": "code",
      "metadata": {
        "scrolled": false,
        "id": "6zXCUNDsJIdF",
        "colab": {
          "base_uri": "https://localhost:8080/"
        },
        "outputId": "b3a3483f-f456-4f3f-f2e6-fb335da8a9e8"
      },
      "source": [
        "descripcionDatosDataset(datos)"
      ],
      "execution_count": null,
      "outputs": [
        {
          "output_type": "stream",
          "text": [
            "Cantidad de filas: 2283\n",
            "Cantidad de columnas: 12\n",
            "----------------------------------------------------------------------------------------------------\n",
            "Columna: sexo\n",
            "Tipo de datos: numérico\n",
            "Descripción de valores:\n",
            "min       1.000000\n",
            "max       2.000000\n",
            "mean      1.460797\n",
            "std       0.498570\n",
            "median    1.000000\n",
            "Name: sexo, dtype: float64\n",
            "----------------------------------------------------------------------------------------------------\n",
            "Columna: nacionalidad\n",
            "Tipo de datos: numérico\n",
            "Descripción de valores:\n",
            "min      -1.000000\n",
            "max       4.000000\n",
            "mean      1.032413\n",
            "std       0.211005\n",
            "median    1.000000\n",
            "Name: nacionalidad, dtype: float64\n",
            "----------------------------------------------------------------------------------------------------\n",
            "Columna: edad\n",
            "Tipo de datos: numérico\n",
            "Descripción de valores:\n",
            "min       22.000000\n",
            "max       63.000000\n",
            "mean      27.899693\n",
            "std        4.925476\n",
            "median    27.000000\n",
            "Name: edad, dtype: float64\n",
            "----------------------------------------------------------------------------------------------------\n",
            "Columna: regular\n",
            "Tipo de datos: nominal\n",
            "Descripción de valores:\n",
            "-- Valores presentes (10 primeros): ['S' 'N']\n",
            "-- Cantidad de nulos: 0 = 0.00%\n",
            "----------------------------------------------------------------------------------------------------\n",
            "Columna: cnt_readmisiones\n",
            "Tipo de datos: numérico\n",
            "Descripción de valores:\n",
            "min       0.000000\n",
            "max       2.000000\n",
            "mean      0.985545\n",
            "std       0.717419\n",
            "median    1.000000\n",
            "Name: cnt_readmisiones, dtype: float64\n",
            "----------------------------------------------------------------------------------------------------\n",
            "Columna: calidad\n",
            "Tipo de datos: nominal\n",
            "Descripción de valores:\n",
            "-- Valores presentes (10 primeros): ['A' 'P']\n",
            "-- Cantidad de nulos: 0 = 0.00%\n",
            "----------------------------------------------------------------------------------------------------\n",
            "Columna: inactividad\n",
            "Tipo de datos: numérico\n",
            "Descripción de valores:\n",
            "min        0.000000\n",
            "max       37.000000\n",
            "mean       1.072711\n",
            "std        2.735806\n",
            "median     0.000000\n",
            "Name: inactividad, dtype: float64\n",
            "----------------------------------------------------------------------------------------------------\n",
            "Columna: estado_civil\n",
            "Tipo de datos: numérico\n",
            "Descripción de valores:\n",
            "min       1.000000\n",
            "max       6.000000\n",
            "mean      1.041612\n",
            "std       0.316814\n",
            "median    1.000000\n",
            "Name: estado_civil, dtype: float64\n",
            "----------------------------------------------------------------------------------------------------\n",
            "Columna: sit_lab_alumno\n",
            "Tipo de datos: nominal\n",
            "Descripción de valores:\n",
            "-- Valores presentes (10 primeros): ['NC' 'N' 'S']\n",
            "-- Cantidad de nulos: 0 = 0.00%\n",
            "----------------------------------------------------------------------------------------------------\n",
            "Columna: tipo_res_alumno\n",
            "Tipo de datos: numérico\n",
            "Descripción de valores:\n",
            "min      -1.000000\n",
            "max       4.000000\n",
            "mean      0.053438\n",
            "std       1.489296\n",
            "median   -1.000000\n",
            "Name: tipo_res_alumno, dtype: float64\n",
            "----------------------------------------------------------------------------------------------------\n",
            "Columna: sit_lab_padres\n",
            "Tipo de datos: numérico\n",
            "Descripción de valores:\n",
            "min      -1.000000\n",
            "max       5.000000\n",
            "mean      0.789750\n",
            "std       2.088225\n",
            "median   -1.000000\n",
            "Name: sit_lab_padres, dtype: float64\n",
            "----------------------------------------------------------------------------------------------------\n",
            "Columna: estudios_padres\n",
            "Tipo de datos: numérico\n",
            "Descripción de valores:\n",
            "min      -1.000000\n",
            "max       7.000000\n",
            "mean      1.998686\n",
            "std       2.743089\n",
            "median    1.000000\n",
            "Name: estudios_padres, dtype: float64\n",
            "----------------------------------------------------------------------------------------------------\n"
          ],
          "name": "stdout"
        }
      ]
    },
    {
      "cell_type": "markdown",
      "metadata": {
        "id": "F_Id2me2JIdG"
      },
      "source": [
        "### Revisión de un atributo en particular"
      ]
    },
    {
      "cell_type": "code",
      "metadata": {
        "id": "hp7pTSFRJIdI",
        "colab": {
          "base_uri": "https://localhost:8080/"
        },
        "outputId": "0cf0241b-2859-4323-c6de-ed6f6c24a993"
      },
      "source": [
        "valores = pd.value_counts(datos.estudios_padres) #Conteo de ocurrencias por valor (not-null)\n",
        "#valores = pd.value_counts(datos.sit_lab_padres) #Conteo de ocurrencias por valor (not-null)\n",
        "print(valores)"
      ],
      "execution_count": null,
      "outputs": [
        {
          "output_type": "stream",
          "text": [
            "-1.0    865\n",
            " 5.0    568\n",
            " 3.0    304\n",
            " 1.0    287\n",
            " 7.0    123\n",
            " 4.0    104\n",
            " 2.0     20\n",
            " 6.0     12\n",
            "Name: estudios_padres, dtype: int64\n"
          ],
          "name": "stdout"
        }
      ]
    },
    {
      "cell_type": "markdown",
      "metadata": {
        "id": "JSizvqb2JIdJ"
      },
      "source": [
        "### Observaciones\n",
        "\n",
        "En este punto se podrían aplicar transformaciones que fueran de utilidad para que la exportación de datos sea consistente con los requerimientos de las técnicas a aplicar en la fase siguiente. Ejemplos:\n",
        "* binarización de atributos"
      ]
    }
  ]
}